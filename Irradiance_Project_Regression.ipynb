{
 "cells": [
  {
   "cell_type": "code",
   "execution_count": 1,
   "metadata": {},
   "outputs": [
    {
     "name": "stderr",
     "output_type": "stream",
     "text": [
      "Using Theano backend.\n"
     ]
    }
   ],
   "source": [
    "## Keras configuration\n",
    "\n",
    "# Set KERAS backend to Theano\n",
    "import os\n",
    "os.environ['KERAS_BACKEND']='theano'\n",
    "\n",
    "# Load Keras\n",
    "import keras\n",
    "\n",
    "# Load the libraries\n",
    "import numpy as np\n",
    "from keras.models import Sequential\n",
    "from keras.layers.core import Dense, Dropout, Activation\n",
    "from keras.layers.convolutional import Conv2D\n",
    "from keras.layers.pooling import MaxPooling2D\n",
    "from keras.utils import np_utils\n",
    "from keras.optimizers import SGD"
   ]
  },
  {
   "cell_type": "code",
   "execution_count": 2,
   "metadata": {},
   "outputs": [],
   "source": [
    "import pandas as pd\n",
    "from functools import reduce"
   ]
  },
  {
   "cell_type": "code",
   "execution_count": 3,
   "metadata": {},
   "outputs": [
    {
     "name": "stdout",
     "output_type": "stream",
     "text": [
      "Loaded file MDA300n150.dat\n",
      "Loaded file MDA300n151.dat\n",
      "Loaded file MDA300n152.dat\n"
     ]
    }
   ],
   "source": [
    "# Load Data into array\n",
    "\n",
    "nodes = []\n",
    "for x in range(0, 3):\n",
    "    nodes.append(pd.read_csv('https://raw.githubusercontent.com/Amitangshu/Irradiance_sensing/master/All_Data_For_EPIC_Roof/MDA300n' + str(x+150) +'.dat',\n",
    "                     error_bad_lines=False, header=1))\n",
    "    print(\"Loaded file MDA300n\"+str(x+150)+\".dat\")"
   ]
  },
  {
   "cell_type": "code",
   "execution_count": 4,
   "metadata": {},
   "outputs": [],
   "source": [
    "# Split TimeStamp into Date and Time columns and \n",
    "\n",
    "numNodes = len(nodes)\n",
    "for y in range(numNodes):\n",
    "    nodes[y][['DATE','TIME']] = nodes[y].TMSTAMP.str.split(expand=True)\n",
    "    nodes[y].TIME = nodes[y].TIME.str[0:5] + ':00'"
   ]
  },
  {
   "cell_type": "code",
   "execution_count": 5,
   "metadata": {},
   "outputs": [],
   "source": [
    "for w in range(numNodes):\n",
    "    nodes[w] = nodes[w].drop('TMSTAMP', 1)\n",
    "    nodes[w] = nodes[w].drop('RECNBR', 1)\n",
    "    nodes[w] = nodes[w].drop('PARENT', 1)\n",
    "    nodes[w] = nodes[w].drop('SOLAROCV', 1)\n",
    "    nodes[w] = nodes[w].drop('VBATT', 1)\n",
    "    nodes[w] = nodes[w].drop('TEMP', 1)\n",
    "    nodes[w] = nodes[w].drop('DATE', 1)"
   ]
  },
  {
   "cell_type": "code",
   "execution_count": 6,
   "metadata": {},
   "outputs": [],
   "source": [
    "dataR = reduce(lambda  left,right: pd.merge(left,right,on=['IRRADIANCE','TIME'],how='outer'), nodes)"
   ]
  },
  {
   "cell_type": "code",
   "execution_count": 7,
   "metadata": {},
   "outputs": [],
   "source": [
    "dataR = dataR.groupby('TIME').mean().reset_index()"
   ]
  },
  {
   "cell_type": "code",
   "execution_count": 8,
   "metadata": {
    "scrolled": true
   },
   "outputs": [
    {
     "data": {
      "text/html": [
       "<div>\n",
       "<style scoped>\n",
       "    .dataframe tbody tr th:only-of-type {\n",
       "        vertical-align: middle;\n",
       "    }\n",
       "\n",
       "    .dataframe tbody tr th {\n",
       "        vertical-align: top;\n",
       "    }\n",
       "\n",
       "    .dataframe thead th {\n",
       "        text-align: right;\n",
       "    }\n",
       "</style>\n",
       "<table border=\"1\" class=\"dataframe\">\n",
       "  <thead>\n",
       "    <tr style=\"text-align: right;\">\n",
       "      <th></th>\n",
       "      <th>TIME</th>\n",
       "      <th>IRRADIANCE</th>\n",
       "    </tr>\n",
       "  </thead>\n",
       "  <tbody>\n",
       "    <tr>\n",
       "      <td>0</td>\n",
       "      <td>00:00:00</td>\n",
       "      <td>13.134230</td>\n",
       "    </tr>\n",
       "    <tr>\n",
       "      <td>1</td>\n",
       "      <td>00:01:00</td>\n",
       "      <td>15.638665</td>\n",
       "    </tr>\n",
       "    <tr>\n",
       "      <td>2</td>\n",
       "      <td>00:02:00</td>\n",
       "      <td>28.817829</td>\n",
       "    </tr>\n",
       "    <tr>\n",
       "      <td>3</td>\n",
       "      <td>00:03:00</td>\n",
       "      <td>12.005140</td>\n",
       "    </tr>\n",
       "    <tr>\n",
       "      <td>4</td>\n",
       "      <td>00:04:00</td>\n",
       "      <td>21.816436</td>\n",
       "    </tr>\n",
       "    <tr>\n",
       "      <td>...</td>\n",
       "      <td>...</td>\n",
       "      <td>...</td>\n",
       "    </tr>\n",
       "    <tr>\n",
       "      <td>1435</td>\n",
       "      <td>23:55:00</td>\n",
       "      <td>11.784221</td>\n",
       "    </tr>\n",
       "    <tr>\n",
       "      <td>1436</td>\n",
       "      <td>23:56:00</td>\n",
       "      <td>18.927367</td>\n",
       "    </tr>\n",
       "    <tr>\n",
       "      <td>1437</td>\n",
       "      <td>23:57:00</td>\n",
       "      <td>28.201312</td>\n",
       "    </tr>\n",
       "    <tr>\n",
       "      <td>1438</td>\n",
       "      <td>23:58:00</td>\n",
       "      <td>15.388788</td>\n",
       "    </tr>\n",
       "    <tr>\n",
       "      <td>1439</td>\n",
       "      <td>23:59:00</td>\n",
       "      <td>18.931429</td>\n",
       "    </tr>\n",
       "  </tbody>\n",
       "</table>\n",
       "<p>1440 rows × 2 columns</p>\n",
       "</div>"
      ],
      "text/plain": [
       "          TIME  IRRADIANCE\n",
       "0     00:00:00   13.134230\n",
       "1     00:01:00   15.638665\n",
       "2     00:02:00   28.817829\n",
       "3     00:03:00   12.005140\n",
       "4     00:04:00   21.816436\n",
       "...        ...         ...\n",
       "1435  23:55:00   11.784221\n",
       "1436  23:56:00   18.927367\n",
       "1437  23:57:00   28.201312\n",
       "1438  23:58:00   15.388788\n",
       "1439  23:59:00   18.931429\n",
       "\n",
       "[1440 rows x 2 columns]"
      ]
     },
     "execution_count": 8,
     "metadata": {},
     "output_type": "execute_result"
    }
   ],
   "source": [
    "dataR.sort_values(by='TIME')"
   ]
  },
  {
   "cell_type": "code",
   "execution_count": 9,
   "metadata": {},
   "outputs": [],
   "source": [
    "import sklearn\n",
    "from sklearn.model_selection import train_test_split\n",
    "\n",
    "# dataR = reduce(lambda  left,right: pd.merge(left,right,on=['IRRADIANCE','TIME'],how='outer'), nodes)\n",
    "# dataR.TIME = pd.to_datetime(dataR.TIME)\n",
    "Train_Set_R = dataR"
   ]
  },
  {
   "cell_type": "code",
   "execution_count": 10,
   "metadata": {},
   "outputs": [],
   "source": [
    "# Training set only consists of irradiance values ordered by timestamp\n",
    "trainset_order = Train_Set_R.sort_values(by='TIME')"
   ]
  },
  {
   "cell_type": "code",
   "execution_count": 11,
   "metadata": {},
   "outputs": [],
   "source": [
    "# Remove Time, retain Irradiance only\n",
    "train_R = trainset_order.iloc[:, 1:2].values"
   ]
  },
  {
   "cell_type": "code",
   "execution_count": 12,
   "metadata": {},
   "outputs": [
    {
     "data": {
      "text/plain": [
       "array([[13.13422966],\n",
       "       [15.63866486],\n",
       "       [28.81782875],\n",
       "       ...,\n",
       "       [28.20131206],\n",
       "       [15.3887876 ],\n",
       "       [18.93142943]])"
      ]
     },
     "execution_count": 12,
     "metadata": {},
     "output_type": "execute_result"
    }
   ],
   "source": [
    "train_R"
   ]
  },
  {
   "cell_type": "code",
   "execution_count": 13,
   "metadata": {},
   "outputs": [],
   "source": [
    "# Data Normalization\n",
    "from sklearn.preprocessing import MinMaxScaler\n",
    "scaler = MinMaxScaler(feature_range = (0, 1))"
   ]
  },
  {
   "cell_type": "code",
   "execution_count": 14,
   "metadata": {},
   "outputs": [],
   "source": [
    "# Scale the training set\n",
    "train_scaled = scaler.fit_transform(train_R)"
   ]
  },
  {
   "cell_type": "code",
   "execution_count": 15,
   "metadata": {},
   "outputs": [],
   "source": [
    "# Feature variable: Irradiance values over the previous 60 minutes\n",
    "# Label (to be predicted): Irradiance of the next minute (61st min)\n",
    "\n",
    "features_set = []\n",
    "labels = []\n",
    "numRec = len(train_scaled)\n",
    "\n",
    "for i in range(60, numRec):\n",
    "    features_set.append(train_scaled[i-60:i,0])\n",
    "    labels.append(train_scaled[i,0])"
   ]
  },
  {
   "cell_type": "code",
   "execution_count": 16,
   "metadata": {},
   "outputs": [],
   "source": [
    "# Re-shaping the training set to numpy array before feeding the model\n",
    "\n",
    "features_set, labels = np.array(features_set), np.array(labels)\n",
    "\n",
    "features_set = np.reshape(features_set,(features_set.shape[0],features_set.shape[1],1))"
   ]
  },
  {
   "cell_type": "code",
   "execution_count": 17,
   "metadata": {},
   "outputs": [
    {
     "data": {
      "text/plain": [
       "(1380, 60, 1)"
      ]
     },
     "execution_count": 17,
     "metadata": {},
     "output_type": "execute_result"
    }
   ],
   "source": [
    "features_set.shape"
   ]
  },
  {
   "cell_type": "code",
   "execution_count": 18,
   "metadata": {},
   "outputs": [],
   "source": [
    "from keras.layers import Dense\n",
    "from keras.layers import LSTM\n",
    "\n",
    "modelM = Sequential()\n",
    "modelM.add(LSTM(units=50, return_sequences=True, input_shape=(features_set.shape[1], 1)))\n",
    "modelM.add(LSTM(units=50, return_sequences=True))\n",
    "modelM.add(Dropout(0.4))\n",
    "\n",
    "modelM.add(LSTM(units=50, return_sequences=True))\n",
    "modelM.add(Dropout(0.4))\n",
    "\n",
    "modelM.add(LSTM(units=50))\n",
    "modelM.add(Dropout(0.4))"
   ]
  },
  {
   "cell_type": "code",
   "execution_count": 19,
   "metadata": {},
   "outputs": [],
   "source": [
    "modelM.add(Dense(units = 1))\n",
    "modelM.compile(optimizer = 'adam', loss = 'mean_squared_error')"
   ]
  },
  {
   "cell_type": "code",
   "execution_count": 20,
   "metadata": {},
   "outputs": [
    {
     "name": "stderr",
     "output_type": "stream",
     "text": [
      "X:\\Utility\\Anaconda\\lib\\site-packages\\theano\\scan_module\\scan_perform_ext.py:76: UserWarning: The file scan_perform.c is not available. This donot happen normally. You are probably in a strangesetup. This mean Theano can not use the cython code for scan. If youwant to remove this warning, use the Theano flag'cxx=' (set to an empty string) to disable all ccode generation.\n",
      "  \"The file scan_perform.c is not available. This do\"\n",
      "X:\\Utility\\Anaconda\\lib\\site-packages\\theano\\scan_module\\scan_perform_ext.py:76: UserWarning: The file scan_perform.c is not available. This donot happen normally. You are probably in a strangesetup. This mean Theano can not use the cython code for scan. If youwant to remove this warning, use the Theano flag'cxx=' (set to an empty string) to disable all ccode generation.\n",
      "  \"The file scan_perform.c is not available. This do\"\n",
      "X:\\Utility\\Anaconda\\lib\\site-packages\\theano\\scan_module\\scan_perform_ext.py:76: UserWarning: The file scan_perform.c is not available. This donot happen normally. You are probably in a strangesetup. This mean Theano can not use the cython code for scan. If youwant to remove this warning, use the Theano flag'cxx=' (set to an empty string) to disable all ccode generation.\n",
      "  \"The file scan_perform.c is not available. This do\"\n",
      "X:\\Utility\\Anaconda\\lib\\site-packages\\theano\\scan_module\\scan_perform_ext.py:76: UserWarning: The file scan_perform.c is not available. This donot happen normally. You are probably in a strangesetup. This mean Theano can not use the cython code for scan. If youwant to remove this warning, use the Theano flag'cxx=' (set to an empty string) to disable all ccode generation.\n",
      "  \"The file scan_perform.c is not available. This do\"\n",
      "X:\\Utility\\Anaconda\\lib\\site-packages\\theano\\scan_module\\scan_perform_ext.py:76: UserWarning: The file scan_perform.c is not available. This donot happen normally. You are probably in a strangesetup. This mean Theano can not use the cython code for scan. If youwant to remove this warning, use the Theano flag'cxx=' (set to an empty string) to disable all ccode generation.\n",
      "  \"The file scan_perform.c is not available. This do\"\n",
      "X:\\Utility\\Anaconda\\lib\\site-packages\\theano\\scan_module\\scan_perform_ext.py:76: UserWarning: The file scan_perform.c is not available. This donot happen normally. You are probably in a strangesetup. This mean Theano can not use the cython code for scan. If youwant to remove this warning, use the Theano flag'cxx=' (set to an empty string) to disable all ccode generation.\n",
      "  \"The file scan_perform.c is not available. This do\"\n",
      "X:\\Utility\\Anaconda\\lib\\site-packages\\theano\\scan_module\\scan_perform_ext.py:76: UserWarning: The file scan_perform.c is not available. This donot happen normally. You are probably in a strangesetup. This mean Theano can not use the cython code for scan. If youwant to remove this warning, use the Theano flag'cxx=' (set to an empty string) to disable all ccode generation.\n",
      "  \"The file scan_perform.c is not available. This do\"\n",
      "X:\\Utility\\Anaconda\\lib\\site-packages\\theano\\scan_module\\scan_perform_ext.py:76: UserWarning: The file scan_perform.c is not available. This donot happen normally. You are probably in a strangesetup. This mean Theano can not use the cython code for scan. If youwant to remove this warning, use the Theano flag'cxx=' (set to an empty string) to disable all ccode generation.\n",
      "  \"The file scan_perform.c is not available. This do\"\n"
     ]
    },
    {
     "name": "stdout",
     "output_type": "stream",
     "text": [
      "Epoch 1/10\n",
      "1380/1380 [==============================] - 3s 2ms/step - loss: 0.1039\n",
      "Epoch 2/10\n",
      "1380/1380 [==============================] - 3s 3ms/step - loss: 0.0230\n",
      "Epoch 3/10\n",
      "1380/1380 [==============================] - 4s 3ms/step - loss: 0.0152\n",
      "Epoch 4/10\n",
      "1380/1380 [==============================] - 4s 3ms/step - loss: 0.0114\n",
      "Epoch 5/10\n",
      "1380/1380 [==============================] - 4s 3ms/step - loss: 0.0105\n",
      "Epoch 6/10\n",
      "1380/1380 [==============================] - 4s 3ms/step - loss: 0.0105\n",
      "Epoch 7/10\n",
      "1380/1380 [==============================] - 4s 3ms/step - loss: 0.0097\n",
      "Epoch 8/10\n",
      "1380/1380 [==============================] - 4s 3ms/step - loss: 0.0104\n",
      "Epoch 9/10\n",
      "1380/1380 [==============================] - 4s 3ms/step - loss: 0.0085\n",
      "Epoch 10/10\n",
      "1380/1380 [==============================] - 3s 3ms/step - loss: 0.0095\n"
     ]
    }
   ],
   "source": [
    "historyM = modelM.fit(features_set, labels, epochs = 10, batch_size = 128)"
   ]
  },
  {
   "cell_type": "code",
   "execution_count": 21,
   "metadata": {
    "scrolled": false
   },
   "outputs": [
    {
     "name": "stderr",
     "output_type": "stream",
     "text": [
      "X:\\Utility\\Anaconda\\lib\\site-packages\\pandas\\plotting\\_matplotlib\\converter.py:103: FutureWarning: Using an implicitly registered datetime converter for a matplotlib plotting method. The converter was registered by pandas on import. Future versions of pandas will require you to explicitly register matplotlib converters.\n",
      "\n",
      "To register the converters:\n",
      "\t>>> from pandas.plotting import register_matplotlib_converters\n",
      "\t>>> register_matplotlib_converters()\n",
      "  warnings.warn(msg, FutureWarning)\n"
     ]
    },
    {
     "data": {
      "text/plain": [
       "<Figure size 1000x600 with 1 Axes>"
      ]
     },
     "metadata": {},
     "output_type": "display_data"
    }
   ],
   "source": [
    "import datetime\n",
    "import matplotlib.pyplot as plt\n",
    "import matplotlib.dates as mdates\n",
    "import matplotlib.cbook as cbook\n",
    "\n",
    "x = pd.to_datetime(dataR.TIME)\n",
    "\n",
    "fig, ax = plt.subplots(figsize=(10, 6))\n",
    "ax.plot(x, dataR.IRRADIANCE, color='purple', label='Actual Irradiance: Nodes 150,151,152')\n",
    "ax.set(xlabel=\"Hour\", ylabel=\"irradiance\",\n",
    "       title=\"Actual Irradiance\")\n",
    "\n",
    "# Format the x axis\n",
    "ax.xaxis.set_major_locator(mdates.HourLocator(interval=1))\n",
    "ax.xaxis.set_major_formatter(mdates.DateFormatter(\"%H:%M:%S\"))\n",
    "ax.legend()\n",
    "plt.title('Training set: Irradiance recorded every minute')\n",
    "\n",
    "fig.autofmt_xdate()\n",
    "plt.show()"
   ]
  },
  {
   "cell_type": "markdown",
   "metadata": {},
   "source": [
    "### Prediction with data from Node 154"
   ]
  },
  {
   "cell_type": "code",
   "execution_count": 22,
   "metadata": {},
   "outputs": [
    {
     "name": "stdout",
     "output_type": "stream",
     "text": [
      "Loaded file MDA300n154.dat\n"
     ]
    }
   ],
   "source": [
    "test_input = pd.read_csv('https://raw.githubusercontent.com/Amitangshu/Irradiance_sensing/master/All_Data_For_EPIC_Roof/MDA300n154.dat',\n",
    "                     error_bad_lines=False, header=1)\n",
    "print(\"Loaded file MDA300n154.dat\")"
   ]
  },
  {
   "cell_type": "code",
   "execution_count": 23,
   "metadata": {},
   "outputs": [],
   "source": [
    "test_input[['DATE','TIME']] = test_input.TMSTAMP.str.split(expand=True)\n",
    "test_input.TIME = test_input.TIME.str[0:5] + ':00'"
   ]
  },
  {
   "cell_type": "code",
   "execution_count": 24,
   "metadata": {},
   "outputs": [],
   "source": [
    "test_input = test_input.drop('TMSTAMP', 1)\n",
    "test_input = test_input.drop('RECNBR', 1)\n",
    "test_input = test_input.drop('PARENT', 1)\n",
    "test_input = test_input.drop('SOLAROCV', 1)\n",
    "test_input = test_input.drop('VBATT', 1)\n",
    "test_input = test_input.drop('TEMP', 1)\n",
    "test_input = test_input.drop('DATE', 1)"
   ]
  },
  {
   "cell_type": "code",
   "execution_count": 25,
   "metadata": {},
   "outputs": [],
   "source": [
    "# Drop duplicates\n",
    "# test_input.drop_duplicates(subset='TIME',keep='first',inplace=True)\n",
    "# Re-order\n",
    "test_input = test_input.groupby('TIME').mean().reset_index()\n",
    "test_input = test_input.sort_values(by='TIME')"
   ]
  },
  {
   "cell_type": "code",
   "execution_count": 26,
   "metadata": {},
   "outputs": [],
   "source": [
    "# Testing set contains recorded irradiance values \n",
    "\n",
    "testset = test_input.iloc[:, 1:2].values"
   ]
  },
  {
   "cell_type": "code",
   "execution_count": 27,
   "metadata": {},
   "outputs": [
    {
     "data": {
      "text/plain": [
       "array([[3.17],\n",
       "       [3.17],\n",
       "       [3.17],\n",
       "       ...,\n",
       "       [3.17],\n",
       "       [3.17],\n",
       "       [3.17]])"
      ]
     },
     "execution_count": 27,
     "metadata": {},
     "output_type": "execute_result"
    }
   ],
   "source": [
    "testset"
   ]
  },
  {
   "cell_type": "code",
   "execution_count": 28,
   "metadata": {},
   "outputs": [],
   "source": [
    "# Transform testing set\n",
    "testset = testset.reshape(-1,1)\n",
    "testset = scaler.transform(testset)"
   ]
  },
  {
   "cell_type": "code",
   "execution_count": 29,
   "metadata": {},
   "outputs": [],
   "source": [
    "# Feed the model with irradiance values recorded every minute\n",
    "\n",
    "test_features = []\n",
    "num = len(testset)\n",
    "\n",
    "for i in range(60, num):\n",
    "    test_features.append(testset[i-60:i, 0])"
   ]
  },
  {
   "cell_type": "code",
   "execution_count": 30,
   "metadata": {},
   "outputs": [],
   "source": [
    "test_features = np.array(test_features)\n",
    "test_features = np.reshape(test_features, (test_features.shape[0], test_features.shape[1], 1))"
   ]
  },
  {
   "cell_type": "code",
   "execution_count": 31,
   "metadata": {},
   "outputs": [
    {
     "name": "stderr",
     "output_type": "stream",
     "text": [
      "X:\\Utility\\Anaconda\\lib\\site-packages\\theano\\scan_module\\scan_perform_ext.py:76: UserWarning: The file scan_perform.c is not available. This donot happen normally. You are probably in a strangesetup. This mean Theano can not use the cython code for scan. If youwant to remove this warning, use the Theano flag'cxx=' (set to an empty string) to disable all ccode generation.\n",
      "  \"The file scan_perform.c is not available. This do\"\n",
      "X:\\Utility\\Anaconda\\lib\\site-packages\\theano\\scan_module\\scan_perform_ext.py:76: UserWarning: The file scan_perform.c is not available. This donot happen normally. You are probably in a strangesetup. This mean Theano can not use the cython code for scan. If youwant to remove this warning, use the Theano flag'cxx=' (set to an empty string) to disable all ccode generation.\n",
      "  \"The file scan_perform.c is not available. This do\"\n",
      "X:\\Utility\\Anaconda\\lib\\site-packages\\theano\\scan_module\\scan_perform_ext.py:76: UserWarning: The file scan_perform.c is not available. This donot happen normally. You are probably in a strangesetup. This mean Theano can not use the cython code for scan. If youwant to remove this warning, use the Theano flag'cxx=' (set to an empty string) to disable all ccode generation.\n",
      "  \"The file scan_perform.c is not available. This do\"\n",
      "X:\\Utility\\Anaconda\\lib\\site-packages\\theano\\scan_module\\scan_perform_ext.py:76: UserWarning: The file scan_perform.c is not available. This donot happen normally. You are probably in a strangesetup. This mean Theano can not use the cython code for scan. If youwant to remove this warning, use the Theano flag'cxx=' (set to an empty string) to disable all ccode generation.\n",
      "  \"The file scan_perform.c is not available. This do\"\n"
     ]
    }
   ],
   "source": [
    "predictions = modelM.predict(test_features)"
   ]
  },
  {
   "cell_type": "code",
   "execution_count": 32,
   "metadata": {},
   "outputs": [],
   "source": [
    "# Inverse transform the prediction because inputs are scaled\n",
    "\n",
    "predictions = scaler.inverse_transform(predictions)"
   ]
  },
  {
   "cell_type": "code",
   "execution_count": 33,
   "metadata": {},
   "outputs": [
    {
     "data": {
      "text/plain": [
       "array([[6.453954],\n",
       "       [6.453954],\n",
       "       [6.453954],\n",
       "       ...,\n",
       "       [6.453954],\n",
       "       [6.453954],\n",
       "       [6.453954]], dtype=float32)"
      ]
     },
     "execution_count": 33,
     "metadata": {},
     "output_type": "execute_result"
    }
   ],
   "source": [
    "predictions"
   ]
  },
  {
   "cell_type": "code",
   "execution_count": 34,
   "metadata": {
    "scrolled": true
   },
   "outputs": [
    {
     "data": {
      "text/plain": [
       "(1380, 1)"
      ]
     },
     "execution_count": 34,
     "metadata": {},
     "output_type": "execute_result"
    }
   ],
   "source": [
    "predictions.shape"
   ]
  },
  {
   "cell_type": "code",
   "execution_count": 35,
   "metadata": {},
   "outputs": [
    {
     "data": {
      "text/plain": [
       "60    01:00:00\n",
       "61    01:01:00\n",
       "Name: TIME, dtype: object"
      ]
     },
     "execution_count": 35,
     "metadata": {},
     "output_type": "execute_result"
    }
   ],
   "source": [
    "test_input.TIME[60:62]"
   ]
  },
  {
   "cell_type": "code",
   "execution_count": 36,
   "metadata": {},
   "outputs": [
    {
     "data": {
      "text/plain": [
       "(1380,)"
      ]
     },
     "execution_count": 36,
     "metadata": {},
     "output_type": "execute_result"
    }
   ],
   "source": [
    "x2 = test_input.TIME[60:1441]\n",
    "x2.shape"
   ]
  },
  {
   "cell_type": "code",
   "execution_count": 37,
   "metadata": {},
   "outputs": [
    {
     "data": {
      "image/png": "[encoded data removed]",
      "text/plain": [
       "<Figure size 864x576 with 1 Axes>"
      ]
     },
     "metadata": {
      "needs_background": "light"
     },
     "output_type": "display_data"
    }
   ],
   "source": [
    "x = pd.to_datetime(test_input.TIME)\n",
    "x2 = pd.to_datetime(x2)\n",
    "\n",
    "fig, ax = plt.subplots(figsize=(12, 8))\n",
    "ax.plot(x, test_input.IRRADIANCE, color='red', label='Actual Irradiance: Node 154')\n",
    "ax.plot(x2, predictions, color='blue', label='Predicted Irradiance')\n",
    "ax.set(xlabel=\"Hour\", ylabel=\"Irradiance\")\n",
    "\n",
    "# Format the x axis\n",
    "ax.xaxis.set_major_locator(mdates.HourLocator(interval=1))\n",
    "ax.xaxis.set_major_formatter(mdates.DateFormatter(\"%H:%M:%S\"))\n",
    "ax.legend()\n",
    "plt.title('Prediction vs Actual Irradiance: Node 154')\n",
    "\n",
    "fig.autofmt_xdate()\n",
    "plt.show()"
   ]
  },
  {
   "cell_type": "code",
   "execution_count": 38,
   "metadata": {},
   "outputs": [
    {
     "name": "stdout",
     "output_type": "stream",
     "text": [
      "Loaded file GHIsolcast.csv\n",
      "Index(['PeriodEnd', 'PeriodStart', 'Period', 'Ghi'], dtype='object')\n",
      "Index(['Ghi', 'TIME'], dtype='object')\n"
     ]
    },
    {
     "data": {
      "text/plain": [
       "(80670, 2)"
      ]
     },
     "execution_count": 38,
     "metadata": {},
     "output_type": "execute_result"
    }
   ],
   "source": [
    "#Load GHI\n",
    "ghi = pd.read_csv('https://raw.githubusercontent.com/MatthewJahn/CIS3296-Irradiance-Project/master/GHIsolcast5min.csv',\n",
    "                     error_bad_lines=False, header=0)\n",
    "print(\"Loaded file GHIsolcast.csv\")\n",
    "\n",
    "#Reduce GHI data to relvant columns\n",
    "print(ghi.columns)\n",
    "ghi[['DATE','TIME']] = ghi.PeriodStart.str.split('T', expand=True)\n",
    "ghi.TIME = ghi.TIME.str[0:8] #theres a T at the end otherwise\n",
    "ghi = ghi.drop('Period', 1)\n",
    "ghi = ghi.drop('PeriodStart', 1)\n",
    "ghi = ghi.drop('PeriodEnd', 1)\n",
    "ghi = ghi.drop('DATE', 1)\n",
    "\n",
    "print(ghi.columns)\n",
    "ghi.shape"
   ]
  },
  {
   "cell_type": "code",
   "execution_count": 39,
   "metadata": {},
   "outputs": [
    {
     "name": "stdout",
     "output_type": "stream",
     "text": [
      "Index(['TIME', 'Ghi'], dtype='object')\n",
      "(288, 2)\n"
     ]
    }
   ],
   "source": [
    "#Avg GHI across each 5 min interval\n",
    "\n",
    "ghiAvg = ghi.groupby(['TIME']).mean().reset_index()\n",
    "\n",
    "print(ghiAvg.columns)\n",
    "print(ghiAvg.shape)\n",
    "\n",
    "#with pd.option_context('display.max_rows', None, 'display.max_columns', None):\n",
    "    #print(ghiAvg)\n",
    "    "
   ]
  },
  {
   "cell_type": "code",
   "execution_count": 40,
   "metadata": {},
   "outputs": [
    {
     "name": "stdout",
     "output_type": "stream",
     "text": [
      "0      00:00:00\n",
      "0      00:00:00\n",
      "0      00:00:00\n",
      "0      00:00:00\n",
      "0      00:00:00\n",
      "         ...   \n",
      "287    23:55:00\n",
      "287    23:55:00\n",
      "287    23:55:00\n",
      "287    23:55:00\n",
      "287    23:55:00\n",
      "Name: TIME, Length: 1440, dtype: object\n"
     ]
    }
   ],
   "source": [
    "#Expand data to 1min resolution to match\n",
    "\n",
    "ghiAvg2 = ghiAvg.copy(deep=True)\n",
    "#ghiAvg2.TIME = ghiAvg2.TIME.str[0:4] + np.where(ghiAvg2['TIME'].str[4]=='0', '6', '1') + ':00'\n",
    "\n",
    "ghiAvg3 = ghiAvg.copy(deep=True)\n",
    "#ghiAvg3.TIME = ghiAvg3.TIME.str[0:4] + np.where(ghiAvg3['TIME'].str[4]=='0', '7', '2') + ':00'\n",
    "\n",
    "ghiAvg4 = ghiAvg.copy(deep=True)\n",
    "#ghiAvg4.TIME = ghiAvg4.TIME.str[0:4] + np.where(ghiAvg4['TIME'].str[4]=='0', '8', '3') + ':00'\n",
    "\n",
    "ghiAvg5 = ghiAvg.copy(deep=True)\n",
    "#ghiAvg5.TIME = ghiAvg5.TIME.str[0:4] + np.where(ghiAvg5['TIME'].str[4]=='0', '9', '4') + ':00'\n",
    "\n",
    "ghiAvg = ghiAvg.append([ghiAvg2, ghiAvg3, ghiAvg4, ghiAvg5])\n",
    "\n",
    "ghiAvg = ghiAvg.sort_values(by=['TIME'])\n",
    "\n",
    "print(ghiAvg.TIME)"
   ]
  },
  {
   "cell_type": "code",
   "execution_count": 41,
   "metadata": {},
   "outputs": [
    {
     "data": {
      "text/plain": [
       "(1380, 1)"
      ]
     },
     "execution_count": 41,
     "metadata": {},
     "output_type": "execute_result"
    }
   ],
   "source": [
    "x2 = test_input.TIME[60:1441]\n",
    "predictions = modelM.predict(test_features)\n",
    "predictions = scaler.inverse_transform(predictions)\n",
    "predictions.shape"
   ]
  },
  {
   "cell_type": "code",
   "execution_count": 42,
   "metadata": {},
   "outputs": [
    {
     "data": {
      "image/png": "[encoded data removed]",
      "text/plain": [
       "<Figure size 864x576 with 1 Axes>"
      ]
     },
     "metadata": {
      "needs_background": "light"
     },
     "output_type": "display_data"
    }
   ],
   "source": [
    "x = pd.to_datetime(test_input.TIME)\n",
    "x2 = pd.to_datetime(x2)\n",
    "\n",
    "fig, ax = plt.subplots(figsize=(12, 8))\n",
    "ax.plot(x, ghiAvg.Ghi, color='red', label='Global Horizontal Irradiance')\n",
    "ax.plot(x2, predictions, color='blue', label='Predicted Irradiance')\n",
    "ax.set(xlabel=\"Hour\", ylabel=\"Irradiance\")\n",
    "\n",
    "# Format the x axis\n",
    "ax.xaxis.set_major_locator(mdates.HourLocator(interval=1))\n",
    "ax.xaxis.set_major_formatter(mdates.DateFormatter(\"%H:%M:%S\"))\n",
    "ax.legend()\n",
    "plt.title('Prediction vs GHI')\n",
    "\n",
    "fig.autofmt_xdate()\n",
    "plt.show()"
   ]
  },
  {
   "cell_type": "code",
   "execution_count": null,
   "metadata": {},
   "outputs": [],
   "source": []
  }
 ],
 "metadata": {
  "kernelspec": {
   "display_name": "Python 3",
   "language": "python",
   "name": "python3"
  },
  "language_info": {
   "codemirror_mode": {
    "name": "ipython",
    "version": 3
   },
   "file_extension": ".py",
   "mimetype": "text/x-python",
   "name": "python",
   "nbconvert_exporter": "python",
   "pygments_lexer": "ipython3",
   "version": "3.7.4"
  }
 },
 "nbformat": 4,
 "nbformat_minor": 2
}
