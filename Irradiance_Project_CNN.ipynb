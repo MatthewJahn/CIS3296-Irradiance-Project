{
 "cells": [
  {
   "cell_type": "code",
   "execution_count": 51,
   "metadata": {},
   "outputs": [],
   "source": [
    "## Keras configuration\n",
    "\n",
    "# Set KERAS backend to Theano\n",
    "import os\n",
    "os.environ['KERAS_BACKEND']='theano'\n",
    "\n",
    "# Load Keras\n",
    "import keras\n",
    "\n",
    "# Load the libraries\n",
    "import numpy as np\n",
    "\n",
    "from keras.models import Sequential\n",
    "from keras.layers.core import Dense, Dropout, Activation\n",
    "from keras.layers.convolutional import Conv2D\n",
    "from keras.layers.pooling import MaxPooling2D\n",
    "from keras.utils import np_utils\n",
    "from keras.optimizers import SGD"
   ]
  },
  {
   "cell_type": "code",
   "execution_count": 52,
   "metadata": {},
   "outputs": [],
   "source": [
    "import pandas as pd\n",
    "from functools import reduce"
   ]
  },
  {
   "cell_type": "code",
   "execution_count": 53,
   "metadata": {},
   "outputs": [
    {
     "name": "stdout",
     "output_type": "stream",
     "text": [
      "Loaded file MDA300n150.dat\n",
      "Loaded file MDA300n151.dat\n",
      "Loaded file MDA300n152.dat\n"
     ]
    },
    {
     "name": "stderr",
     "output_type": "stream",
     "text": [
      "b'Skipping line 47729: expected 7 fields, saw 13\\n'\n"
     ]
    },
    {
     "name": "stdout",
     "output_type": "stream",
     "text": [
      "Loaded file MDA300n153.dat\n",
      "Loaded file MDA300n154.dat\n"
     ]
    }
   ],
   "source": [
    "# Load Data into array\n",
    "\n",
    "nodes = []\n",
    "for x in range(0, 5):\n",
    "    nodes.append(pd.read_csv('https://raw.githubusercontent.com/Amitangshu/Irradiance_sensing/master/All_Data_For_EPIC_Roof/MDA300n' + str(x+150) +'.dat',\n",
    "                     error_bad_lines=False, header=1))\n",
    "    print(\"Loaded file MDA300n\"+str(x+150)+\".dat\")"
   ]
  },
  {
   "cell_type": "code",
   "execution_count": 54,
   "metadata": {
    "scrolled": false
   },
   "outputs": [],
   "source": [
    "# Split TimeStamp into Date and Time columns and \n",
    "\n",
    "numNodes = len(nodes)\n",
    "for y in range(numNodes):\n",
    "    nodes[y][['DATE','TIME']] = nodes[y].TMSTAMP.str.split(expand=True)"
   ]
  },
  {
   "cell_type": "code",
   "execution_count": 55,
   "metadata": {},
   "outputs": [],
   "source": [
    "for w in range(numNodes):\n",
    "    nodes[w] = nodes[w].drop('TMSTAMP', 1)\n",
    "    nodes[w] = nodes[w].drop('RECNBR', 1)\n",
    "    nodes[w] = nodes[w].drop('PARENT', 1)\n",
    "    nodes[w] = nodes[w].drop('SOLAROCV', 1)\n",
    "    nodes[w] = nodes[w].drop('VBATT', 1)\n",
    "    nodes[w] = nodes[w].drop('TEMP', 1)\n",
    "    nodes[w] = nodes[w].drop('DATE', 1)"
   ]
  },
  {
   "cell_type": "code",
   "execution_count": 56,
   "metadata": {},
   "outputs": [
    {
     "name": "stdout",
     "output_type": "stream",
     "text": [
      "Index(['IRRADIANCE', 'TIME'], dtype='object')\n"
     ]
    }
   ],
   "source": [
    "print(nodes[0].columns)"
   ]
  },
  {
   "cell_type": "code",
   "execution_count": 57,
   "metadata": {},
   "outputs": [],
   "source": [
    "# Explore data to see the distribution of irradiance values\n",
    "\n",
    "count = []\n",
    "for z in range(numNodes):\n",
    "    count.append(nodes[z].IRRADIANCE.value_counts())"
   ]
  },
  {
   "cell_type": "code",
   "execution_count": 58,
   "metadata": {
    "scrolled": true
   },
   "outputs": [
    {
     "data": {
      "text/plain": [
       "Float64Index([   2.92,    5.83,    8.75,   11.67,   20.42,   14.58,    35.0,\n",
       "                 17.5,   55.41,   26.25,\n",
       "              ...\n",
       "              3094.41, 7151.27, 6602.96, 6675.88, 7256.26, 4742.24, 8026.22,\n",
       "              1388.26, 3505.64, 2397.37],\n",
       "             dtype='float64', length=2003)"
      ]
     },
     "execution_count": 58,
     "metadata": {},
     "output_type": "execute_result"
    }
   ],
   "source": [
    "count[0].index"
   ]
  },
  {
   "cell_type": "code",
   "execution_count": 59,
   "metadata": {},
   "outputs": [],
   "source": [
    "# Select the 10 class values\n",
    "class_values = [2.92, 8.75, 3.07, 2.81, 3.17, 8.44, 2.74, 2.98, 3.14, 3.52]"
   ]
  },
  {
   "cell_type": "code",
   "execution_count": 60,
   "metadata": {},
   "outputs": [],
   "source": [
    "# Subset data by the selected class values\n",
    "\n",
    "subset = []\n",
    "for a in range(numNodes):\n",
    "    subset.append(nodes[a][nodes[a].IRRADIANCE.isin(class_values)])"
   ]
  },
  {
   "cell_type": "code",
   "execution_count": 61,
   "metadata": {},
   "outputs": [
    {
     "name": "stdout",
     "output_type": "stream",
     "text": [
      "Index(['IRRADIANCE', 'TIME'], dtype='object')\n"
     ]
    }
   ],
   "source": [
    "print(nodes[0].columns)"
   ]
  },
  {
   "cell_type": "code",
   "execution_count": 62,
   "metadata": {},
   "outputs": [],
   "source": [
    "# Merge the subsets\n",
    "\n",
    "data = reduce(lambda  left,right: pd.merge(left,right,on=['IRRADIANCE','TIME'],how='outer'), nodes)"
   ]
  },
  {
   "cell_type": "code",
   "execution_count": 63,
   "metadata": {},
   "outputs": [
    {
     "name": "stdout",
     "output_type": "stream",
     "text": [
      "569638\n"
     ]
    }
   ],
   "source": [
    "data.head()\n",
    "print(data.size)"
   ]
  },
  {
   "cell_type": "code",
   "execution_count": 64,
   "metadata": {
    "scrolled": false
   },
   "outputs": [],
   "source": [
    "# Transform Time column into numeric (hours)\n",
    "data.TIME = pd.to_timedelta(data.TIME)\n",
    "data.TIME = data.TIME.dt.seconds/3600"
   ]
  },
  {
   "cell_type": "code",
   "execution_count": 65,
   "metadata": {},
   "outputs": [],
   "source": [
    "# Creating labels:\n",
    "\n",
    "# Convert the labels into categorical classification\n",
    "# Class values: {2.92, 8.75, 3.07, 2.81} correspond to {0, 1, 2, 3}\n",
    "data.loc[data.IRRADIANCE==2.92, 'IRRADIANCE'] = 0\n",
    "data.loc[data.IRRADIANCE==8.75, 'IRRADIANCE'] = 1\n",
    "data.loc[data.IRRADIANCE==3.07, 'IRRADIANCE'] = 2\n",
    "data.loc[data.IRRADIANCE==2.81, 'IRRADIANCE'] = 3\n",
    "data.loc[data.IRRADIANCE==3.17, 'IRRADIANCE'] = 4\n",
    "data.loc[data.IRRADIANCE==8.44, 'IRRADIANCE'] = 5\n",
    "data.loc[data.IRRADIANCE==2.74, 'IRRADIANCE'] = 6\n",
    "data.loc[data.IRRADIANCE==2.98, 'IRRADIANCE'] = 7\n",
    "data.loc[data.IRRADIANCE==3.14, 'IRRADIANCE'] = 8\n",
    "data.loc[data.IRRADIANCE==3.52, 'IRRADIANCE'] = 9"
   ]
  },
  {
   "cell_type": "code",
   "execution_count": 66,
   "metadata": {},
   "outputs": [
    {
     "data": {
      "text/html": [
       "<div>\n",
       "<style scoped>\n",
       "    .dataframe tbody tr th:only-of-type {\n",
       "        vertical-align: middle;\n",
       "    }\n",
       "\n",
       "    .dataframe tbody tr th {\n",
       "        vertical-align: top;\n",
       "    }\n",
       "\n",
       "    .dataframe thead th {\n",
       "        text-align: right;\n",
       "    }\n",
       "</style>\n",
       "<table border=\"1\" class=\"dataframe\">\n",
       "  <thead>\n",
       "    <tr style=\"text-align: right;\">\n",
       "      <th></th>\n",
       "      <th>IRRADIANCE</th>\n",
       "      <th>TIME</th>\n",
       "    </tr>\n",
       "  </thead>\n",
       "  <tbody>\n",
       "    <tr>\n",
       "      <td>0</td>\n",
       "      <td>40.83</td>\n",
       "      <td>18.887500</td>\n",
       "    </tr>\n",
       "    <tr>\n",
       "      <td>1</td>\n",
       "      <td>40.83</td>\n",
       "      <td>18.920000</td>\n",
       "    </tr>\n",
       "    <tr>\n",
       "      <td>2</td>\n",
       "      <td>17.50</td>\n",
       "      <td>19.066944</td>\n",
       "    </tr>\n",
       "    <tr>\n",
       "      <td>3</td>\n",
       "      <td>17.50</td>\n",
       "      <td>19.083056</td>\n",
       "    </tr>\n",
       "    <tr>\n",
       "      <td>4</td>\n",
       "      <td>14.58</td>\n",
       "      <td>19.099167</td>\n",
       "    </tr>\n",
       "  </tbody>\n",
       "</table>\n",
       "</div>"
      ],
      "text/plain": [
       "   IRRADIANCE       TIME\n",
       "0       40.83  18.887500\n",
       "1       40.83  18.920000\n",
       "2       17.50  19.066944\n",
       "3       17.50  19.083056\n",
       "4       14.58  19.099167"
      ]
     },
     "execution_count": 66,
     "metadata": {},
     "output_type": "execute_result"
    }
   ],
   "source": [
    "data.head()"
   ]
  },
  {
   "cell_type": "code",
   "execution_count": 67,
   "metadata": {},
   "outputs": [],
   "source": [
    "# Split data into three parts: training(40%), testing(30%), validation(30%)\n",
    "# Use scikit-learn\n",
    "\n",
    "import sklearn\n",
    "from sklearn.model_selection import train_test_split\n",
    "\n",
    "Train_Set, Test_Set = train_test_split(data, train_size=0.4, test_size=0.3, shuffle=True)"
   ]
  },
  {
   "cell_type": "code",
   "execution_count": 68,
   "metadata": {},
   "outputs": [],
   "source": [
    "# Extract the feature columns: IRRADIANCE, TIME\n",
    "\n",
    "X_train = np.array(Train_Set[['IRRADIANCE', 'TIME']]).astype('float64')\n",
    "X_test = np.array(Test_Set[['IRRADIANCE','TIME']]).astype('float64')\n",
    "\n",
    "# Input Shape\n",
    "shape_ord = (X_train[0].shape)"
   ]
  },
  {
   "cell_type": "code",
   "execution_count": 69,
   "metadata": {},
   "outputs": [],
   "source": [
    "# Extract the label column: IRRADIANCE\n",
    "\n",
    "# Cast the label as integer\n",
    "Y_train = np.array(Train_Set[['IRRADIANCE']]).astype('int')\n",
    "Y_test = np.array(Test_Set[['IRRADIANCE']]).astype('int')\n",
    "\n",
    "from keras.utils import to_categorical\n",
    "# Convert the labels into categorical form\n",
    "Y_train = to_categorical(Y_train, num_classes=8750)\n",
    "Y_test = to_categorical(Y_test, num_classes=8750)"
   ]
  },
  {
   "cell_type": "code",
   "execution_count": 70,
   "metadata": {},
   "outputs": [
    {
     "data": {
      "text/plain": [
       "(2,)"
      ]
     },
     "execution_count": 70,
     "metadata": {},
     "output_type": "execute_result"
    }
   ],
   "source": [
    "shape_ord"
   ]
  },
  {
   "cell_type": "markdown",
   "metadata": {},
   "source": [
    "### Training Model 1 - CNN\n",
    "\n",
    "**1.** Initialize the parameters"
   ]
  },
  {
   "cell_type": "code",
   "execution_count": 71,
   "metadata": {},
   "outputs": [],
   "source": [
    "# Initialize the parameters\n",
    "# Number of epochs\n",
    "nb_epochs = 1\n",
    "# Batch size\n",
    "batch_size = 128\n",
    "# Vanilla SGD\n",
    "sgd = SGD(lr=0.1, decay=1e-6, momentum=0.9, nesterov=True)"
   ]
  },
  {
   "cell_type": "markdown",
   "metadata": {},
   "source": [
    "**2.** Compile the model"
   ]
  },
  {
   "cell_type": "code",
   "execution_count": 72,
   "metadata": {},
   "outputs": [
    {
     "name": "stdout",
     "output_type": "stream",
     "text": [
      "_________________________________________________________________\n",
      "Layer (type)                 Output Shape              Param #   \n",
      "=================================================================\n",
      "dense_7 (Dense)              (None, 10)                30        \n",
      "_________________________________________________________________\n",
      "dropout_5 (Dropout)          (None, 10)                0         \n",
      "_________________________________________________________________\n",
      "dense_8 (Dense)              (None, 10)                110       \n",
      "_________________________________________________________________\n",
      "dropout_6 (Dropout)          (None, 10)                0         \n",
      "_________________________________________________________________\n",
      "dense_9 (Dense)              (None, 8750)              96250     \n",
      "=================================================================\n",
      "Total params: 96,390\n",
      "Trainable params: 96,390\n",
      "Non-trainable params: 0\n",
      "_________________________________________________________________\n"
     ]
    }
   ],
   "source": [
    "model = Sequential()\n",
    "\n",
    "model.add(Dense(10, activation='relu', input_dim=2))\n",
    "model.add(Dropout(1.0))\n",
    "model.add(Dense(10, activation='relu'))\n",
    "model.add(Dropout(1.0))\n",
    "model.add(Dense(8750, activation='softmax'))\n",
    "\n",
    "model.compile(loss='categorical_crossentropy',\n",
    "              optimizer=sgd,\n",
    "              metrics=['accuracy'])\n",
    "\n",
    "model.summary()"
   ]
  },
  {
   "cell_type": "markdown",
   "metadata": {},
   "source": [
    "**3.** Fit the model"
   ]
  },
  {
   "cell_type": "code",
   "execution_count": 73,
   "metadata": {},
   "outputs": [
    {
     "name": "stdout",
     "output_type": "stream",
     "text": [
      "_________________________________________________________________\n",
      "Layer (type)                 Output Shape              Param #   \n",
      "=================================================================\n",
      "dense_7 (Dense)              (None, 10)                30        \n",
      "_________________________________________________________________\n",
      "dropout_5 (Dropout)          (None, 10)                0         \n",
      "_________________________________________________________________\n",
      "dense_8 (Dense)              (None, 10)                110       \n",
      "_________________________________________________________________\n",
      "dropout_6 (Dropout)          (None, 10)                0         \n",
      "_________________________________________________________________\n",
      "dense_9 (Dense)              (None, 8750)              96250     \n",
      "=================================================================\n",
      "Total params: 96,390\n",
      "Trainable params: 96,390\n",
      "Non-trainable params: 0\n",
      "_________________________________________________________________\n"
     ]
    }
   ],
   "source": [
    "model.summary()"
   ]
  },
  {
   "cell_type": "code",
   "execution_count": 74,
   "metadata": {},
   "outputs": [
    {
     "name": "stdout",
     "output_type": "stream",
     "text": [
      "Train on 113927 samples, validate on 85446 samples\n",
      "Epoch 1/1\n",
      "113927/113927 [==============================] - 567s 5ms/step - loss: 5.1309 - acc: 0.3205 - val_loss: 4.7300 - val_acc: 0.3258\n"
     ]
    }
   ],
   "source": [
    "hist = model.fit(X_train, Y_train, batch_size=batch_size,validation_split=0.33, \n",
    "                 epochs=nb_epochs, verbose=1, \n",
    "                 validation_data=(X_test, Y_test))"
   ]
  },
  {
   "cell_type": "markdown",
   "metadata": {},
   "source": [
    "**4.** Visualize the results"
   ]
  },
  {
   "cell_type": "code",
   "execution_count": 75,
   "metadata": {},
   "outputs": [
    {
     "ename": "KeyError",
     "evalue": "'accuracy'",
     "output_type": "error",
     "traceback": [
      "\u001b[1;31m---------------------------------------------------------------------------\u001b[0m",
      "\u001b[1;31mKeyError\u001b[0m                                  Traceback (most recent call last)",
      "\u001b[1;32m<ipython-input-75-2c917d1a6093>\u001b[0m in \u001b[0;36m<module>\u001b[1;34m\u001b[0m\n\u001b[0;32m     12\u001b[0m \u001b[0mplt\u001b[0m\u001b[1;33m.\u001b[0m\u001b[0mxlabel\u001b[0m\u001b[1;33m(\u001b[0m\u001b[1;34m'Epochs'\u001b[0m\u001b[1;33m)\u001b[0m\u001b[1;33m\u001b[0m\u001b[1;33m\u001b[0m\u001b[0m\n\u001b[0;32m     13\u001b[0m \u001b[0mplt\u001b[0m\u001b[1;33m.\u001b[0m\u001b[0mylabel\u001b[0m\u001b[1;33m(\u001b[0m\u001b[1;34m'Accuracy'\u001b[0m\u001b[1;33m)\u001b[0m\u001b[1;33m\u001b[0m\u001b[1;33m\u001b[0m\u001b[0m\n\u001b[1;32m---> 14\u001b[1;33m \u001b[0mplt\u001b[0m\u001b[1;33m.\u001b[0m\u001b[0mplot\u001b[0m\u001b[1;33m(\u001b[0m\u001b[0mhist\u001b[0m\u001b[1;33m.\u001b[0m\u001b[0mhistory\u001b[0m\u001b[1;33m[\u001b[0m\u001b[1;34m'accuracy'\u001b[0m\u001b[1;33m]\u001b[0m\u001b[1;33m)\u001b[0m\u001b[1;33m\u001b[0m\u001b[1;33m\u001b[0m\u001b[0m\n\u001b[0m\u001b[0;32m     15\u001b[0m \u001b[0mplt\u001b[0m\u001b[1;33m.\u001b[0m\u001b[0mplot\u001b[0m\u001b[1;33m(\u001b[0m\u001b[0mhist\u001b[0m\u001b[1;33m.\u001b[0m\u001b[0mhistory\u001b[0m\u001b[1;33m[\u001b[0m\u001b[1;34m'val_accuracy'\u001b[0m\u001b[1;33m]\u001b[0m\u001b[1;33m)\u001b[0m\u001b[1;33m\u001b[0m\u001b[1;33m\u001b[0m\u001b[0m\n\u001b[0;32m     16\u001b[0m \u001b[0mplt\u001b[0m\u001b[1;33m.\u001b[0m\u001b[0mlegend\u001b[0m\u001b[1;33m(\u001b[0m\u001b[1;33m[\u001b[0m\u001b[1;34m'Training'\u001b[0m\u001b[1;33m,\u001b[0m \u001b[1;34m'Validation'\u001b[0m\u001b[1;33m]\u001b[0m\u001b[1;33m,\u001b[0m \u001b[0mloc\u001b[0m\u001b[1;33m=\u001b[0m\u001b[1;34m'lower right'\u001b[0m\u001b[1;33m)\u001b[0m\u001b[1;33m\u001b[0m\u001b[1;33m\u001b[0m\u001b[0m\n",
      "\u001b[1;31mKeyError\u001b[0m: 'accuracy'"
     ]
    },
    {
     "data": {
      "image/png": "[encoded data removed]",
      "text/plain": [
       "<Figure size 432x288 with 1 Axes>"
      ]
     },
     "metadata": {
      "needs_background": "light"
     },
     "output_type": "display_data"
    },
    {
     "data": {
      "image/png": "[encoded data removed]",
      "text/plain": [
       "<Figure size 432x288 with 1 Axes>"
      ]
     },
     "metadata": {
      "needs_background": "light"
     },
     "output_type": "display_data"
    }
   ],
   "source": [
    "import matplotlib.pyplot as plt\n",
    "%matplotlib inline\n",
    "\n",
    "plt.figure()\n",
    "plt.xlabel('Epochs')\n",
    "plt.ylabel('Loss')\n",
    "plt.plot(hist.history['loss'])\n",
    "plt.plot(hist.history['val_loss'])\n",
    "plt.legend(['Training', 'Validation'])\n",
    "\n",
    "plt.figure()\n",
    "plt.xlabel('Epochs')\n",
    "plt.ylabel('Accuracy')\n",
    "plt.plot(hist.history['accuracy'])\n",
    "plt.plot(hist.history['val_accuracy'])\n",
    "plt.legend(['Training', 'Validation'], loc='lower right')"
   ]
  },
  {
   "cell_type": "markdown",
   "metadata": {},
   "source": [
    "**5.** Evaluate the accuracy of the model"
   ]
  },
  {
   "cell_type": "code",
   "execution_count": 76,
   "metadata": {},
   "outputs": [
    {
     "name": "stdout",
     "output_type": "stream",
     "text": [
      "Test Loss: 4.730015329460475\n",
      "Test Accuracy: 0.3257847061315826\n"
     ]
    }
   ],
   "source": [
    "# Evaluating the model on the test data    \n",
    "loss, accuracy = model.evaluate(X_test, Y_test, verbose=0)\n",
    "print('Test Loss:', loss)\n",
    "print('Test Accuracy:', accuracy)"
   ]
  },
  {
   "cell_type": "code",
   "execution_count": 77,
   "metadata": {},
   "outputs": [
    {
     "name": "stdout",
     "output_type": "stream",
     "text": [
      "_________________________________________________________________\n",
      "Layer (type)                 Output Shape              Param #   \n",
      "=================================================================\n",
      "dense_10 (Dense)             (None, 10)                30        \n",
      "_________________________________________________________________\n",
      "dropout_7 (Dropout)          (None, 10)                0         \n",
      "_________________________________________________________________\n",
      "dense_11 (Dense)             (None, 10)                110       \n",
      "_________________________________________________________________\n",
      "dense_12 (Dense)             (None, 8750)              96250     \n",
      "=================================================================\n",
      "Total params: 96,390\n",
      "Trainable params: 96,390\n",
      "Non-trainable params: 0\n",
      "_________________________________________________________________\n",
      "Train on 113927 samples, validate on 85446 samples\n",
      "Epoch 1/1\n",
      "113927/113927 [==============================] - 515s 5ms/step - loss: 4.5310 - acc: 0.2653 - val_loss: 4.0797 - val_acc: 0.3336\n"
     ]
    }
   ],
   "source": [
    "# Dropout Tests\n",
    "\n",
    "# 1.0\n",
    "\n",
    "model = Sequential()\n",
    "\n",
    "model.add(Dense(10, activation='relu', input_dim=2))\n",
    "model.add(Dropout(1.0))\n",
    "model.add(Dense(10, activation='relu'))\n",
    "model.add(Dense(8750, activation='softmax'))\n",
    "\n",
    "model.compile(loss='categorical_crossentropy',\n",
    "              optimizer=sgd,\n",
    "              metrics=['accuracy'])\n",
    "\n",
    "model.summary()\n",
    "\n",
    "hist = model.fit(X_train, Y_train, batch_size=batch_size,validation_split=0.33, \n",
    "                 epochs=nb_epochs, verbose=1, \n",
    "                 validation_data=(X_test, Y_test))"
   ]
  },
  {
   "cell_type": "code",
   "execution_count": 78,
   "metadata": {},
   "outputs": [
    {
     "name": "stdout",
     "output_type": "stream",
     "text": [
      "_________________________________________________________________\n",
      "Layer (type)                 Output Shape              Param #   \n",
      "=================================================================\n",
      "dense_13 (Dense)             (None, 10)                30        \n",
      "_________________________________________________________________\n",
      "dropout_8 (Dropout)          (None, 10)                0         \n",
      "_________________________________________________________________\n",
      "dense_14 (Dense)             (None, 10)                110       \n",
      "_________________________________________________________________\n",
      "dense_15 (Dense)             (None, 8750)              96250     \n",
      "=================================================================\n",
      "Total params: 96,390\n",
      "Trainable params: 96,390\n",
      "Non-trainable params: 0\n",
      "_________________________________________________________________\n",
      "Train on 113927 samples, validate on 85446 samples\n",
      "Epoch 1/1\n",
      "113927/113927 [==============================] - 543s 5ms/step - loss: 4.7592 - acc: 0.1833 - val_loss: 4.5991 - val_acc: 0.1342\n"
     ]
    }
   ],
   "source": [
    "# Dropout Tests\n",
    "\n",
    "# 0.8\n",
    "\n",
    "model = Sequential()\n",
    "\n",
    "model.add(Dense(10, activation='relu', input_dim=2))\n",
    "model.add(Dropout(0.8))\n",
    "model.add(Dense(10, activation='relu'))\n",
    "model.add(Dense(8750, activation='softmax'))\n",
    "\n",
    "model.compile(loss='categorical_crossentropy',\n",
    "              optimizer=sgd,\n",
    "              metrics=['accuracy'])\n",
    "\n",
    "model.summary()\n",
    "\n",
    "hist = model.fit(X_train, Y_train, batch_size=batch_size,validation_split=0.33, \n",
    "                 epochs=nb_epochs, verbose=1, \n",
    "                 validation_data=(X_test, Y_test))"
   ]
  },
  {
   "cell_type": "code",
   "execution_count": 82,
   "metadata": {},
   "outputs": [
    {
     "name": "stdout",
     "output_type": "stream",
     "text": [
      "_________________________________________________________________\n",
      "Layer (type)                 Output Shape              Param #   \n",
      "=================================================================\n",
      "dense_25 (Dense)             (None, 10)                30        \n",
      "_________________________________________________________________\n",
      "dropout_12 (Dropout)         (None, 10)                0         \n",
      "_________________________________________________________________\n",
      "dense_26 (Dense)             (None, 10)                110       \n",
      "_________________________________________________________________\n",
      "dense_27 (Dense)             (None, 8750)              96250     \n",
      "=================================================================\n",
      "Total params: 96,390\n",
      "Trainable params: 96,390\n",
      "Non-trainable params: 0\n",
      "_________________________________________________________________\n",
      "Train on 113927 samples, validate on 85446 samples\n",
      "Epoch 1/1\n",
      "113927/113927 [==============================] - 809s 7ms/step - loss: 4.5810 - acc: 0.2605 - val_loss: 4.1654 - val_acc: 0.3511\n"
     ]
    }
   ],
   "source": [
    "# Dropout Tests\n",
    "\n",
    "# 0.6\n",
    "\n",
    "model = Sequential()\n",
    "\n",
    "model.add(Dense(10, activation='relu', input_dim=2))\n",
    "model.add(Dropout(0.6))\n",
    "model.add(Dense(10, activation='relu'))\n",
    "model.add(Dense(8750, activation='softmax'))\n",
    "\n",
    "model.compile(loss='categorical_crossentropy',\n",
    "              optimizer=sgd,\n",
    "              metrics=['accuracy'])\n",
    "\n",
    "model.summary()\n",
    "\n",
    "hist = model.fit(X_train, Y_train, batch_size=batch_size,validation_split=0.33, \n",
    "                 epochs=nb_epochs, verbose=1, \n",
    "                 validation_data=(X_test, Y_test))"
   ]
  },
  {
   "cell_type": "code",
   "execution_count": 83,
   "metadata": {},
   "outputs": [
    {
     "name": "stdout",
     "output_type": "stream",
     "text": [
      "_________________________________________________________________\n",
      "Layer (type)                 Output Shape              Param #   \n",
      "=================================================================\n",
      "dense_28 (Dense)             (None, 10)                30        \n",
      "_________________________________________________________________\n",
      "dropout_13 (Dropout)         (None, 10)                0         \n",
      "_________________________________________________________________\n",
      "dense_29 (Dense)             (None, 10)                110       \n",
      "_________________________________________________________________\n",
      "dense_30 (Dense)             (None, 8750)              96250     \n",
      "=================================================================\n",
      "Total params: 96,390\n",
      "Trainable params: 96,390\n",
      "Non-trainable params: 0\n",
      "_________________________________________________________________\n",
      "Train on 113927 samples, validate on 85446 samples\n",
      "Epoch 1/1\n",
      "113927/113927 [==============================] - 531s 5ms/step - loss: 4.3910 - acc: 0.3039 - val_loss: 4.1466 - val_acc: 0.3258\n"
     ]
    }
   ],
   "source": [
    "# Dropout Tests\n",
    "\n",
    "# 0.4\n",
    "\n",
    "model = Sequential()\n",
    "\n",
    "model.add(Dense(10, activation='relu', input_dim=2))\n",
    "model.add(Dropout(0.4))\n",
    "model.add(Dense(10, activation='relu'))\n",
    "model.add(Dense(8750, activation='softmax'))\n",
    "\n",
    "model.compile(loss='categorical_crossentropy',\n",
    "              optimizer=sgd,\n",
    "              metrics=['accuracy'])\n",
    "\n",
    "model.summary()\n",
    "\n",
    "hist = model.fit(X_train, Y_train, batch_size=batch_size,validation_split=0.33, \n",
    "                 epochs=nb_epochs, verbose=1, \n",
    "                 validation_data=(X_test, Y_test))"
   ]
  },
  {
   "cell_type": "code",
   "execution_count": 81,
   "metadata": {},
   "outputs": [
    {
     "name": "stdout",
     "output_type": "stream",
     "text": [
      "_________________________________________________________________\n",
      "Layer (type)                 Output Shape              Param #   \n",
      "=================================================================\n",
      "dense_22 (Dense)             (None, 10)                30        \n",
      "_________________________________________________________________\n",
      "dropout_11 (Dropout)         (None, 10)                0         \n",
      "_________________________________________________________________\n",
      "dense_23 (Dense)             (None, 10)                110       \n",
      "_________________________________________________________________\n",
      "dense_24 (Dense)             (None, 8750)              96250     \n",
      "=================================================================\n",
      "Total params: 96,390\n",
      "Trainable params: 96,390\n",
      "Non-trainable params: 0\n",
      "_________________________________________________________________\n",
      "Train on 113927 samples, validate on 85446 samples\n",
      "Epoch 1/1\n",
      "113927/113927 [==============================] - 536s 5ms/step - loss: 4.8674 - acc: 0.2266 - val_loss: 4.2841 - val_acc: 0.3336\n"
     ]
    }
   ],
   "source": [
    "# Dropout Tests\n",
    "\n",
    "# 0.2\n",
    "\n",
    "model = Sequential()\n",
    "\n",
    "model.add(Dense(10, activation='relu', input_dim=2))\n",
    "model.add(Dropout(0.2))\n",
    "model.add(Dense(10, activation='relu'))\n",
    "model.add(Dense(8750, activation='softmax'))\n",
    "\n",
    "model.compile(loss='categorical_crossentropy',\n",
    "              optimizer=sgd,\n",
    "              metrics=['accuracy'])\n",
    "\n",
    "model.summary()\n",
    "\n",
    "hist = model.fit(X_train, Y_train, batch_size=batch_size,validation_split=0.33, \n",
    "                 epochs=nb_epochs, verbose=1, \n",
    "                 validation_data=(X_test, Y_test))"
   ]
  },
  {
   "cell_type": "code",
   "execution_count": 84,
   "metadata": {},
   "outputs": [
    {
     "name": "stdout",
     "output_type": "stream",
     "text": [
      "_________________________________________________________________\n",
      "Layer (type)                 Output Shape              Param #   \n",
      "=================================================================\n",
      "dense_31 (Dense)             (None, 10)                30        \n",
      "_________________________________________________________________\n",
      "dropout_14 (Dropout)         (None, 10)                0         \n",
      "_________________________________________________________________\n",
      "dense_32 (Dense)             (None, 10)                110       \n",
      "_________________________________________________________________\n",
      "dense_33 (Dense)             (None, 8750)              96250     \n",
      "=================================================================\n",
      "Total params: 96,390\n",
      "Trainable params: 96,390\n",
      "Non-trainable params: 0\n",
      "_________________________________________________________________\n",
      "Train on 113927 samples, validate on 85446 samples\n",
      "Epoch 1/1\n",
      "113927/113927 [==============================] - 509s 4ms/step - loss: 4.3176 - acc: 0.3207 - val_loss: 4.1495 - val_acc: 0.3258\n"
     ]
    }
   ],
   "source": [
    "# Initialize the parameters\n",
    "# Number of epochs\n",
    "nb_epochs = 1\n",
    "# Batch size\n",
    "batch_size = 128\n",
    "# Vanilla SGD\n",
    "sgd = SGD(lr=0.1, decay=1e-6, momentum=0.9, nesterov=True)\n",
    "\n",
    "model = Sequential()\n",
    "\n",
    "model.add(Dense(10, activation='relu', input_dim=2))\n",
    "model.add(Dropout(1.0))\n",
    "model.add(Dense(10, activation='relu'))\n",
    "model.add(Dense(8750, activation='softmax'))\n",
    "\n",
    "model.compile(loss='categorical_crossentropy',\n",
    "              optimizer=sgd,\n",
    "              metrics=['accuracy'])\n",
    "\n",
    "model.summary()\n",
    "\n",
    "hist = model.fit(X_train, Y_train, batch_size=batch_size,validation_split=0.33, \n",
    "                 epochs=nb_epochs, verbose=1, \n",
    "                 validation_data=(X_test, Y_test))"
   ]
  },
  {
   "cell_type": "code",
   "execution_count": 85,
   "metadata": {},
   "outputs": [
    {
     "name": "stdout",
     "output_type": "stream",
     "text": [
      "_________________________________________________________________\n",
      "Layer (type)                 Output Shape              Param #   \n",
      "=================================================================\n",
      "dense_34 (Dense)             (None, 10)                30        \n",
      "_________________________________________________________________\n",
      "dropout_15 (Dropout)         (None, 10)                0         \n",
      "_________________________________________________________________\n",
      "dense_35 (Dense)             (None, 10)                110       \n",
      "_________________________________________________________________\n",
      "dense_36 (Dense)             (None, 8750)              96250     \n",
      "=================================================================\n",
      "Total params: 96,390\n",
      "Trainable params: 96,390\n",
      "Non-trainable params: 0\n",
      "_________________________________________________________________\n",
      "Train on 113927 samples, validate on 85446 samples\n",
      "Epoch 1/1\n",
      "113927/113927 [==============================] - 591s 5ms/step - loss: 4.4501 - acc: 0.2959 - val_loss: 3.8720 - val_acc: 0.3279\n"
     ]
    }
   ],
   "source": [
    "#Dropout Tests Batch=32\n",
    "# Initialize the parameters\n",
    "# Number of epochs\n",
    "nb_epochs = 1\n",
    "# Batch size\n",
    "batch_size = 32\n",
    "# Vanilla SGD\n",
    "sgd = SGD(lr=0.1, decay=1e-6, momentum=0.9, nesterov=True)\n",
    "\n",
    "model = Sequential()\n",
    "\n",
    "model.add(Dense(10, activation='relu', input_dim=2))\n",
    "model.add(Dropout(1.0))\n",
    "model.add(Dense(10, activation='relu'))\n",
    "model.add(Dense(8750, activation='softmax'))\n",
    "\n",
    "model.compile(loss='categorical_crossentropy',\n",
    "              optimizer=sgd,\n",
    "              metrics=['accuracy'])\n",
    "\n",
    "model.summary()\n",
    "\n",
    "hist = model.fit(X_train, Y_train, batch_size=batch_size,validation_split=0.33, \n",
    "                 epochs=nb_epochs, verbose=1, \n",
    "                 validation_data=(X_test, Y_test))"
   ]
  },
  {
   "cell_type": "code",
   "execution_count": 86,
   "metadata": {},
   "outputs": [
    {
     "name": "stdout",
     "output_type": "stream",
     "text": [
      "_________________________________________________________________\n",
      "Layer (type)                 Output Shape              Param #   \n",
      "=================================================================\n",
      "dense_37 (Dense)             (None, 10)                30        \n",
      "_________________________________________________________________\n",
      "dropout_16 (Dropout)         (None, 10)                0         \n",
      "_________________________________________________________________\n",
      "dense_38 (Dense)             (None, 10)                110       \n",
      "_________________________________________________________________\n",
      "dense_39 (Dense)             (None, 8750)              96250     \n",
      "=================================================================\n",
      "Total params: 96,390\n",
      "Trainable params: 96,390\n",
      "Non-trainable params: 0\n",
      "_________________________________________________________________\n",
      "Train on 113927 samples, validate on 85446 samples\n",
      "Epoch 1/1\n",
      "113927/113927 [==============================] - 535s 5ms/step - loss: 4.3059 - acc: 0.3150 - val_loss: 4.1092 - val_acc: 0.3258\n"
     ]
    }
   ],
   "source": [
    "#Dropout Tests Batch=64\n",
    "# Initialize the parameters\n",
    "# Number of epochs\n",
    "nb_epochs = 1\n",
    "# Batch size\n",
    "batch_size = 64\n",
    "# Vanilla SGD\n",
    "sgd = SGD(lr=0.1, decay=1e-6, momentum=0.9, nesterov=True)\n",
    "\n",
    "model = Sequential()\n",
    "\n",
    "model.add(Dense(10, activation='relu', input_dim=2))\n",
    "model.add(Dropout(1.0))\n",
    "model.add(Dense(10, activation='relu'))\n",
    "model.add(Dense(8750, activation='softmax'))\n",
    "\n",
    "model.compile(loss='categorical_crossentropy',\n",
    "              optimizer=sgd,\n",
    "              metrics=['accuracy'])\n",
    "\n",
    "model.summary()\n",
    "\n",
    "hist = model.fit(X_train, Y_train, batch_size=batch_size,validation_split=0.33, \n",
    "                 epochs=nb_epochs, verbose=1, \n",
    "                 validation_data=(X_test, Y_test))"
   ]
  },
  {
   "cell_type": "code",
   "execution_count": 87,
   "metadata": {},
   "outputs": [
    {
     "name": "stdout",
     "output_type": "stream",
     "text": [
      "_________________________________________________________________\n",
      "Layer (type)                 Output Shape              Param #   \n",
      "=================================================================\n",
      "dense_40 (Dense)             (None, 10)                30        \n",
      "_________________________________________________________________\n",
      "dropout_17 (Dropout)         (None, 10)                0         \n",
      "_________________________________________________________________\n",
      "dense_41 (Dense)             (None, 10)                110       \n",
      "_________________________________________________________________\n",
      "dense_42 (Dense)             (None, 8750)              96250     \n",
      "=================================================================\n",
      "Total params: 96,390\n",
      "Trainable params: 96,390\n",
      "Non-trainable params: 0\n",
      "_________________________________________________________________\n",
      "Train on 113927 samples, validate on 85446 samples\n",
      "Epoch 1/1\n",
      "113927/113927 [==============================] - 475s 4ms/step - loss: 5.4294 - acc: 0.3192 - val_loss: 4.9840 - val_acc: 0.3258\n"
     ]
    }
   ],
   "source": [
    "#Dropout Tests Batch=256\n",
    "# Initialize the parameters\n",
    "# Number of epochs\n",
    "nb_epochs = 1\n",
    "# Batch size\n",
    "batch_size = 256\n",
    "# Vanilla SGD\n",
    "sgd = SGD(lr=0.1, decay=1e-6, momentum=0.9, nesterov=True)\n",
    "\n",
    "model = Sequential()\n",
    "\n",
    "model.add(Dense(10, activation='relu', input_dim=2))\n",
    "model.add(Dropout(1.0))\n",
    "model.add(Dense(10, activation='relu'))\n",
    "model.add(Dense(8750, activation='softmax'))\n",
    "\n",
    "model.compile(loss='categorical_crossentropy',\n",
    "              optimizer=sgd,\n",
    "              metrics=['accuracy'])\n",
    "\n",
    "model.summary()\n",
    "\n",
    "hist = model.fit(X_train, Y_train, batch_size=batch_size,validation_split=0.33, \n",
    "                 epochs=nb_epochs, verbose=1, \n",
    "                 validation_data=(X_test, Y_test))"
   ]
  },
  {
   "cell_type": "code",
   "execution_count": 88,
   "metadata": {},
   "outputs": [
    {
     "name": "stdout",
     "output_type": "stream",
     "text": [
      "_________________________________________________________________\n",
      "Layer (type)                 Output Shape              Param #   \n",
      "=================================================================\n",
      "dense_43 (Dense)             (None, 10)                30        \n",
      "_________________________________________________________________\n",
      "dropout_18 (Dropout)         (None, 10)                0         \n",
      "_________________________________________________________________\n",
      "dense_44 (Dense)             (None, 10)                110       \n",
      "_________________________________________________________________\n",
      "dense_45 (Dense)             (None, 8750)              96250     \n",
      "=================================================================\n",
      "Total params: 96,390\n",
      "Trainable params: 96,390\n",
      "Non-trainable params: 0\n",
      "_________________________________________________________________\n",
      "Train on 113927 samples, validate on 85446 samples\n",
      "Epoch 1/1\n",
      "113927/113927 [==============================] - 576s 5ms/step - loss: 4.2874 - acc: 0.3134 - val_loss: 4.0835 - val_acc: 0.3279\n"
     ]
    }
   ],
   "source": [
    "#Dropout Tests Batch=16\n",
    "# Initialize the parameters\n",
    "# Number of epochs\n",
    "nb_epochs = 1\n",
    "# Batch size\n",
    "batch_size = 16\n",
    "# Vanilla SGD\n",
    "sgd = SGD(lr=0.1, decay=1e-6, momentum=0.9, nesterov=True)\n",
    "\n",
    "model = Sequential()\n",
    "\n",
    "model.add(Dense(10, activation='relu', input_dim=2))\n",
    "model.add(Dropout(1.0))\n",
    "model.add(Dense(10, activation='relu'))\n",
    "model.add(Dense(8750, activation='softmax'))\n",
    "\n",
    "model.compile(loss='categorical_crossentropy',\n",
    "              optimizer=sgd,\n",
    "              metrics=['accuracy'])\n",
    "\n",
    "model.summary()\n",
    "\n",
    "hist = model.fit(X_train, Y_train, batch_size=batch_size,validation_split=0.33, \n",
    "                 epochs=nb_epochs, verbose=1, \n",
    "                 validation_data=(X_test, Y_test))"
   ]
  },
  {
   "cell_type": "code",
   "execution_count": null,
   "metadata": {},
   "outputs": [],
   "source": []
  },
  {
   "cell_type": "code",
   "execution_count": null,
   "metadata": {},
   "outputs": [],
   "source": []
  },
  {
   "cell_type": "code",
   "execution_count": null,
   "metadata": {},
   "outputs": [],
   "source": []
  }
 ],
 "metadata": {
  "kernelspec": {
   "display_name": "Python 3",
   "language": "python",
   "name": "python3"
  },
  "language_info": {
   "codemirror_mode": {
    "name": "ipython",
    "version": 3
   },
   "file_extension": ".py",
   "mimetype": "text/x-python",
   "name": "python",
   "nbconvert_exporter": "python",
   "pygments_lexer": "ipython3",
   "version": "3.7.4"
  }
 },
 "nbformat": 4,
 "nbformat_minor": 2
}
