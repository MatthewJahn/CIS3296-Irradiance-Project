{
 "cells": [
  {
   "cell_type": "code",
   "execution_count": 1,
   "metadata": {},
   "outputs": [
    {
     "name": "stderr",
     "output_type": "stream",
     "text": [
      "Using Theano backend.\n"
     ]
    }
   ],
   "source": [
    "## Keras configuration\n",
    "\n",
    "# Set KERAS backend to Theano\n",
    "import os\n",
    "os.environ['KERAS_BACKEND']='theano'\n",
    "\n",
    "# Load Keras\n",
    "import keras\n",
    "\n",
    "# Load the libraries\n",
    "import numpy as np\n",
    "\n",
    "from keras.datasets import mnist\n",
    "from keras.models import Sequential\n",
    "from keras.layers.core import Dense, Dropout, Activation, Flatten\n",
    "from keras.layers.convolutional import Conv2D\n",
    "from keras.layers.pooling import MaxPooling2D\n",
    "from keras.utils import np_utils\n",
    "from keras.optimizers import SGD"
   ]
  },
  {
   "cell_type": "code",
   "execution_count": 2,
   "metadata": {},
   "outputs": [],
   "source": [
    "import pandas as pd\n",
    "from functools import reduce"
   ]
  },
  {
   "cell_type": "code",
   "execution_count": 3,
   "metadata": {},
   "outputs": [
    {
     "name": "stdout",
     "output_type": "stream",
     "text": [
      "Loaded file MDA300n150.dat\n",
      "Loaded file MDA300n151.dat\n",
      "Loaded file MDA300n152.dat\n"
     ]
    },
    {
     "name": "stderr",
     "output_type": "stream",
     "text": [
      "b'Skipping line 47729: expected 7 fields, saw 13\\n'\n"
     ]
    },
    {
     "name": "stdout",
     "output_type": "stream",
     "text": [
      "Loaded file MDA300n153.dat\n",
      "Loaded file MDA300n154.dat\n",
      "Loaded file MDA300n155.dat\n",
      "Loaded file MDA300n156.dat\n",
      "Loaded file MDA300n157.dat\n",
      "Loaded file MDA300n158.dat\n",
      "Loaded file MDA300n159.dat\n"
     ]
    }
   ],
   "source": [
    "# Load Data into array\n",
    "\n",
    "nodes = []\n",
    "for x in range(0, 10):\n",
    "    nodes.append(pd.read_csv('https://raw.githubusercontent.com/Amitangshu/Irradiance_sensing/master/All_Data_For_EPIC_Roof/MDA300n' + str(x+150) +'.dat',\n",
    "                     error_bad_lines=False, header=1))\n",
    "    print(\"Loaded file MDA300n\"+str(x+150)+\".dat\")"
   ]
  },
  {
   "cell_type": "code",
   "execution_count": 4,
   "metadata": {
    "scrolled": false
   },
   "outputs": [],
   "source": [
    "# Split TimeStamp into Date and Time columns and \n",
    "\n",
    "numNodes = len(nodes)\n",
    "for y in range(numNodes):\n",
    "    nodes[y][['DATE','TIME']] = nodes[y].TMSTAMP.str.split(expand=True)"
   ]
  },
  {
   "cell_type": "code",
   "execution_count": 5,
   "metadata": {},
   "outputs": [],
   "source": [
    "# Explore data to see the distribution of irradiance values\n",
    "\n",
    "count = []\n",
    "for z in range(numNodes):\n",
    "    count.append(nodes[z].IRRADIANCE.value_counts())"
   ]
  },
  {
   "cell_type": "code",
   "execution_count": 6,
   "metadata": {},
   "outputs": [
    {
     "data": {
      "text/plain": [
       "Float64Index([   2.92,    5.83,    8.75,   11.67,   20.42,   14.58,    35.0,\n",
       "                 17.5,   55.41,   26.25,\n",
       "              ...\n",
       "              3094.41, 7151.27, 6602.96, 6675.88, 7256.26, 4742.24, 8026.22,\n",
       "              1388.26, 3505.64, 2397.37],\n",
       "             dtype='float64', length=2003)"
      ]
     },
     "execution_count": 6,
     "metadata": {},
     "output_type": "execute_result"
    }
   ],
   "source": [
    "count[0].index"
   ]
  },
  {
   "cell_type": "code",
   "execution_count": 7,
   "metadata": {},
   "outputs": [],
   "source": [
    "# Select the 10 class values\n",
    "class_values = [2.92, 8.75, 3.07, 2.81, 3.17, 8.44, 2.74, 2.98, 3.14, 3.52]"
   ]
  },
  {
   "cell_type": "code",
   "execution_count": 8,
   "metadata": {},
   "outputs": [],
   "source": [
    "# Subset data by the selected class values\n",
    "\n",
    "subset = []\n",
    "for a in range(numNodes):\n",
    "    subset.append(nodes[a][nodes[a].IRRADIANCE.isin(class_values)])"
   ]
  },
  {
   "cell_type": "code",
   "execution_count": 9,
   "metadata": {},
   "outputs": [
    {
     "name": "stdout",
     "output_type": "stream",
     "text": [
      "Index(['TMSTAMP', 'RECNBR', 'PARENT', 'IRRADIANCE', 'SOLAROCV', 'VBATT',\n",
      "       'TEMP', 'DATE', 'TIME'],\n",
      "      dtype='object')\n"
     ]
    }
   ],
   "source": [
    "print(nodes[0].columns)"
   ]
  },
  {
   "cell_type": "code",
   "execution_count": 10,
   "metadata": {},
   "outputs": [],
   "source": [
    "# Merge the subsets\n",
    "\n",
    "data = reduce(lambda  left,right: pd.merge(left,right,on=['TMSTAMP', 'RECNBR', 'PARENT', 'IRRADIANCE', 'SOLAROCV', 'VBATT',\n",
    "       'TEMP', 'DATE', 'TIME'],how='outer'), nodes)\n",
    "    "
   ]
  },
  {
   "cell_type": "code",
   "execution_count": 11,
   "metadata": {},
   "outputs": [
    {
     "name": "stdout",
     "output_type": "stream",
     "text": [
      "5528907\n"
     ]
    }
   ],
   "source": [
    "data.head()\n",
    "print(data.size)"
   ]
  },
  {
   "cell_type": "code",
   "execution_count": 12,
   "metadata": {
    "scrolled": false
   },
   "outputs": [],
   "source": [
    "# Transform Time column into numeric (hours)\n",
    "data.TIME = pd.to_timedelta(data.TIME)\n",
    "data.TIME = data.TIME.dt.seconds/3600"
   ]
  },
  {
   "cell_type": "code",
   "execution_count": 13,
   "metadata": {},
   "outputs": [],
   "source": [
    "# Creating labels:\n",
    "\n",
    "# Convert the labels into categorical classification\n",
    "# Class values: {2.92, 8.75, 3.07, 2.81} correspond to {0, 1, 2, 3}\n",
    "data.loc[data.IRRADIANCE==2.92, 'IRRADIANCE'] = 0\n",
    "data.loc[data.IRRADIANCE==8.75, 'IRRADIANCE'] = 1\n",
    "data.loc[data.IRRADIANCE==3.07, 'IRRADIANCE'] = 2\n",
    "data.loc[data.IRRADIANCE==2.81, 'IRRADIANCE'] = 3\n",
    "data.loc[data.IRRADIANCE==3.17, 'IRRADIANCE'] = 4\n",
    "data.loc[data.IRRADIANCE==8.44, 'IRRADIANCE'] = 5\n",
    "data.loc[data.IRRADIANCE==2.74, 'IRRADIANCE'] = 6\n",
    "data.loc[data.IRRADIANCE==2.98, 'IRRADIANCE'] = 7\n",
    "data.loc[data.IRRADIANCE==3.14, 'IRRADIANCE'] = 8\n",
    "data.loc[data.IRRADIANCE==3.52, 'IRRADIANCE'] = 9"
   ]
  },
  {
   "cell_type": "code",
   "execution_count": 14,
   "metadata": {},
   "outputs": [
    {
     "data": {
      "text/html": [
       "<div>\n",
       "<style scoped>\n",
       "    .dataframe tbody tr th:only-of-type {\n",
       "        vertical-align: middle;\n",
       "    }\n",
       "\n",
       "    .dataframe tbody tr th {\n",
       "        vertical-align: top;\n",
       "    }\n",
       "\n",
       "    .dataframe thead th {\n",
       "        text-align: right;\n",
       "    }\n",
       "</style>\n",
       "<table border=\"1\" class=\"dataframe\">\n",
       "  <thead>\n",
       "    <tr style=\"text-align: right;\">\n",
       "      <th></th>\n",
       "      <th>TMSTAMP</th>\n",
       "      <th>RECNBR</th>\n",
       "      <th>PARENT</th>\n",
       "      <th>IRRADIANCE</th>\n",
       "      <th>SOLAROCV</th>\n",
       "      <th>VBATT</th>\n",
       "      <th>TEMP</th>\n",
       "      <th>DATE</th>\n",
       "      <th>TIME</th>\n",
       "    </tr>\n",
       "  </thead>\n",
       "  <tbody>\n",
       "    <tr>\n",
       "      <td>0</td>\n",
       "      <td>2012-09-14 18:53:15</td>\n",
       "      <td>1</td>\n",
       "      <td>0</td>\n",
       "      <td>40.83</td>\n",
       "      <td>0.95</td>\n",
       "      <td>3.06</td>\n",
       "      <td>85.44</td>\n",
       "      <td>2012-09-14</td>\n",
       "      <td>18.887500</td>\n",
       "    </tr>\n",
       "    <tr>\n",
       "      <td>1</td>\n",
       "      <td>2012-09-14 18:55:12</td>\n",
       "      <td>2</td>\n",
       "      <td>0</td>\n",
       "      <td>40.83</td>\n",
       "      <td>0.96</td>\n",
       "      <td>3.05</td>\n",
       "      <td>85.35</td>\n",
       "      <td>2012-09-14</td>\n",
       "      <td>18.920000</td>\n",
       "    </tr>\n",
       "    <tr>\n",
       "      <td>2</td>\n",
       "      <td>2012-09-14 19:04:01</td>\n",
       "      <td>3</td>\n",
       "      <td>0</td>\n",
       "      <td>17.50</td>\n",
       "      <td>0.89</td>\n",
       "      <td>3.05</td>\n",
       "      <td>83.80</td>\n",
       "      <td>2012-09-14</td>\n",
       "      <td>19.066944</td>\n",
       "    </tr>\n",
       "    <tr>\n",
       "      <td>3</td>\n",
       "      <td>2012-09-14 19:04:59</td>\n",
       "      <td>4</td>\n",
       "      <td>0</td>\n",
       "      <td>17.50</td>\n",
       "      <td>0.88</td>\n",
       "      <td>3.06</td>\n",
       "      <td>83.57</td>\n",
       "      <td>2012-09-14</td>\n",
       "      <td>19.083056</td>\n",
       "    </tr>\n",
       "    <tr>\n",
       "      <td>4</td>\n",
       "      <td>2012-09-14 19:05:57</td>\n",
       "      <td>5</td>\n",
       "      <td>0</td>\n",
       "      <td>14.58</td>\n",
       "      <td>0.89</td>\n",
       "      <td>3.06</td>\n",
       "      <td>83.34</td>\n",
       "      <td>2012-09-14</td>\n",
       "      <td>19.099167</td>\n",
       "    </tr>\n",
       "  </tbody>\n",
       "</table>\n",
       "</div>"
      ],
      "text/plain": [
       "               TMSTAMP  RECNBR  PARENT  IRRADIANCE  SOLAROCV  VBATT   TEMP  \\\n",
       "0  2012-09-14 18:53:15       1       0       40.83      0.95   3.06  85.44   \n",
       "1  2012-09-14 18:55:12       2       0       40.83      0.96   3.05  85.35   \n",
       "2  2012-09-14 19:04:01       3       0       17.50      0.89   3.05  83.80   \n",
       "3  2012-09-14 19:04:59       4       0       17.50      0.88   3.06  83.57   \n",
       "4  2012-09-14 19:05:57       5       0       14.58      0.89   3.06  83.34   \n",
       "\n",
       "         DATE       TIME  \n",
       "0  2012-09-14  18.887500  \n",
       "1  2012-09-14  18.920000  \n",
       "2  2012-09-14  19.066944  \n",
       "3  2012-09-14  19.083056  \n",
       "4  2012-09-14  19.099167  "
      ]
     },
     "execution_count": 14,
     "metadata": {},
     "output_type": "execute_result"
    }
   ],
   "source": [
    "data.head()"
   ]
  },
  {
   "cell_type": "code",
   "execution_count": 15,
   "metadata": {},
   "outputs": [],
   "source": [
    "# Split data into three parts: training(40%), testing(30%), validation(30%)\n",
    "# Use scikit-learn\n",
    "\n",
    "import sklearn\n",
    "from sklearn.model_selection import train_test_split\n",
    "\n",
    "Train_Set, Test_Set = train_test_split(data, train_size=0.5, test_size=0.4, shuffle=True)"
   ]
  },
  {
   "cell_type": "code",
   "execution_count": 16,
   "metadata": {},
   "outputs": [],
   "source": [
    "# Extract the feature columns: SOLAROCV, TEMP, TIME\n",
    "\n",
    "X_train = np.array(Train_Set[['SOLAROCV','TEMP','TIME']]).astype('float64')\n",
    "X_test = np.array(Test_Set[['SOLAROCV','TEMP','TIME']]).astype('float64')\n",
    "\n",
    "# Input Shape\n",
    "shape_ord = (X_train[0].shape)"
   ]
  },
  {
   "cell_type": "code",
   "execution_count": 17,
   "metadata": {},
   "outputs": [],
   "source": [
    "# Extract the label column: IRRADIANCE\n",
    "\n",
    "# Cast the label as integer\n",
    "Y_train = np.array(Train_Set[['IRRADIANCE']]).astype('int')\n",
    "Y_test = np.array(Test_Set[['IRRADIANCE']]).astype('int')\n",
    "\n",
    "from keras.utils import to_categorical\n",
    "# Convert the labels into categorical form\n",
    "Y_train = to_categorical(Y_train, num_classes=8750)\n",
    "Y_test = to_categorical(Y_test, num_classes=8750)"
   ]
  },
  {
   "cell_type": "code",
   "execution_count": 18,
   "metadata": {},
   "outputs": [
    {
     "data": {
      "text/plain": [
       "(3,)"
      ]
     },
     "execution_count": 18,
     "metadata": {},
     "output_type": "execute_result"
    }
   ],
   "source": [
    "shape_ord"
   ]
  },
  {
   "cell_type": "markdown",
   "metadata": {},
   "source": [
    "### Training Model 1 - CNN\n",
    "\n",
    "**1.** Initialize the parameters"
   ]
  },
  {
   "cell_type": "code",
   "execution_count": 19,
   "metadata": {},
   "outputs": [],
   "source": [
    "# Initialize the parameters\n",
    "# Number of epochs\n",
    "nb_epochs = 1\n",
    "# Batch size\n",
    "batch_size = 128\n",
    "# Vanilla SGD\n",
    "sgd = SGD(lr=0.1, decay=1e-6, momentum=0.9, nesterov=True)"
   ]
  },
  {
   "cell_type": "markdown",
   "metadata": {},
   "source": [
    "**2.** Compile the model"
   ]
  },
  {
   "cell_type": "code",
   "execution_count": 20,
   "metadata": {},
   "outputs": [],
   "source": [
    "model = Sequential()\n",
    "\n",
    "model.add(Dense(10, activation='relu', input_dim=3))\n",
    "model.add(Dropout(1.0))\n",
    "model.add(Dense(10, activation='relu'))\n",
    "model.add(Dropout(1.0))\n",
    "model.add(Dense(8750, activation='softmax'))\n",
    "\n",
    "model.compile(loss='categorical_crossentropy',\n",
    "              optimizer=sgd,\n",
    "              metrics=['accuracy'])"
   ]
  },
  {
   "cell_type": "markdown",
   "metadata": {},
   "source": [
    "**3.** Fit the model"
   ]
  },
  {
   "cell_type": "code",
   "execution_count": 21,
   "metadata": {},
   "outputs": [
    {
     "name": "stdout",
     "output_type": "stream",
     "text": [
      "_________________________________________________________________\n",
      "Layer (type)                 Output Shape              Param #   \n",
      "=================================================================\n",
      "dense_1 (Dense)              (None, 10)                40        \n",
      "_________________________________________________________________\n",
      "dropout_1 (Dropout)          (None, 10)                0         \n",
      "_________________________________________________________________\n",
      "dense_2 (Dense)              (None, 10)                110       \n",
      "_________________________________________________________________\n",
      "dropout_2 (Dropout)          (None, 10)                0         \n",
      "_________________________________________________________________\n",
      "dense_3 (Dense)              (None, 8750)              96250     \n",
      "=================================================================\n",
      "Total params: 96,400\n",
      "Trainable params: 96,400\n",
      "Non-trainable params: 0\n",
      "_________________________________________________________________\n"
     ]
    }
   ],
   "source": [
    "model.summary()"
   ]
  },
  {
   "cell_type": "code",
   "execution_count": 22,
   "metadata": {},
   "outputs": [
    {
     "name": "stdout",
     "output_type": "stream",
     "text": [
      "Train on 307161 samples, validate on 245730 samples\n",
      "Epoch 1/1\n",
      "307161/307161 [==============================] - 361s 1ms/step - loss: 5.5083 - acc: 0.1106 - val_loss: 4.9646 - val_acc: 0.1139\n"
     ]
    }
   ],
   "source": [
    "hist = model.fit(X_train, Y_train, batch_size=batch_size,validation_split=0.33, \n",
    "                 epochs=nb_epochs, verbose=1, \n",
    "                 validation_data=(X_test, Y_test))"
   ]
  },
  {
   "cell_type": "markdown",
   "metadata": {},
   "source": [
    "**4.** Visualize the results"
   ]
  },
  {
   "cell_type": "code",
   "execution_count": 23,
   "metadata": {},
   "outputs": [
    {
     "ename": "KeyError",
     "evalue": "'accuracy'",
     "output_type": "error",
     "traceback": [
      "\u001b[1;31m---------------------------------------------------------------------------\u001b[0m",
      "\u001b[1;31mKeyError\u001b[0m                                  Traceback (most recent call last)",
      "\u001b[1;32m<ipython-input-23-2c917d1a6093>\u001b[0m in \u001b[0;36m<module>\u001b[1;34m\u001b[0m\n\u001b[0;32m     12\u001b[0m \u001b[0mplt\u001b[0m\u001b[1;33m.\u001b[0m\u001b[0mxlabel\u001b[0m\u001b[1;33m(\u001b[0m\u001b[1;34m'Epochs'\u001b[0m\u001b[1;33m)\u001b[0m\u001b[1;33m\u001b[0m\u001b[1;33m\u001b[0m\u001b[0m\n\u001b[0;32m     13\u001b[0m \u001b[0mplt\u001b[0m\u001b[1;33m.\u001b[0m\u001b[0mylabel\u001b[0m\u001b[1;33m(\u001b[0m\u001b[1;34m'Accuracy'\u001b[0m\u001b[1;33m)\u001b[0m\u001b[1;33m\u001b[0m\u001b[1;33m\u001b[0m\u001b[0m\n\u001b[1;32m---> 14\u001b[1;33m \u001b[0mplt\u001b[0m\u001b[1;33m.\u001b[0m\u001b[0mplot\u001b[0m\u001b[1;33m(\u001b[0m\u001b[0mhist\u001b[0m\u001b[1;33m.\u001b[0m\u001b[0mhistory\u001b[0m\u001b[1;33m[\u001b[0m\u001b[1;34m'accuracy'\u001b[0m\u001b[1;33m]\u001b[0m\u001b[1;33m)\u001b[0m\u001b[1;33m\u001b[0m\u001b[1;33m\u001b[0m\u001b[0m\n\u001b[0m\u001b[0;32m     15\u001b[0m \u001b[0mplt\u001b[0m\u001b[1;33m.\u001b[0m\u001b[0mplot\u001b[0m\u001b[1;33m(\u001b[0m\u001b[0mhist\u001b[0m\u001b[1;33m.\u001b[0m\u001b[0mhistory\u001b[0m\u001b[1;33m[\u001b[0m\u001b[1;34m'val_accuracy'\u001b[0m\u001b[1;33m]\u001b[0m\u001b[1;33m)\u001b[0m\u001b[1;33m\u001b[0m\u001b[1;33m\u001b[0m\u001b[0m\n\u001b[0;32m     16\u001b[0m \u001b[0mplt\u001b[0m\u001b[1;33m.\u001b[0m\u001b[0mlegend\u001b[0m\u001b[1;33m(\u001b[0m\u001b[1;33m[\u001b[0m\u001b[1;34m'Training'\u001b[0m\u001b[1;33m,\u001b[0m \u001b[1;34m'Validation'\u001b[0m\u001b[1;33m]\u001b[0m\u001b[1;33m,\u001b[0m \u001b[0mloc\u001b[0m\u001b[1;33m=\u001b[0m\u001b[1;34m'lower right'\u001b[0m\u001b[1;33m)\u001b[0m\u001b[1;33m\u001b[0m\u001b[1;33m\u001b[0m\u001b[0m\n",
      "\u001b[1;31mKeyError\u001b[0m: 'accuracy'"
     ]
    },
    {
     "data": {
      "image/png": "[encoded data removed]",
      "text/plain": [
       "<Figure size 432x288 with 1 Axes>"
      ]
     },
     "metadata": {
      "needs_background": "light"
     },
     "output_type": "display_data"
    },
    {
     "data": {
      "image/png": "[encoded data removed]",
      "text/plain": [
       "<Figure size 432x288 with 1 Axes>"
      ]
     },
     "metadata": {
      "needs_background": "light"
     },
     "output_type": "display_data"
    }
   ],
   "source": [
    "import matplotlib.pyplot as plt\n",
    "%matplotlib inline\n",
    "\n",
    "plt.figure()\n",
    "plt.xlabel('Epochs')\n",
    "plt.ylabel('Loss')\n",
    "plt.plot(hist.history['loss'])\n",
    "plt.plot(hist.history['val_loss'])\n",
    "plt.legend(['Training', 'Validation'])\n",
    "\n",
    "plt.figure()\n",
    "plt.xlabel('Epochs')\n",
    "plt.ylabel('Accuracy')\n",
    "plt.plot(hist.history['accuracy'])\n",
    "plt.plot(hist.history['val_accuracy'])\n",
    "plt.legend(['Training', 'Validation'], loc='lower right')"
   ]
  },
  {
   "cell_type": "markdown",
   "metadata": {},
   "source": [
    "**5.** Evaluate the accuracy of the model"
   ]
  },
  {
   "cell_type": "code",
   "execution_count": null,
   "metadata": {},
   "outputs": [],
   "source": [
    "# Evaluating the model on the test data    \n",
    "loss, accuracy = model.evaluate(X_test, Y_test, verbose=0)\n",
    "print('Test Loss:', loss)\n",
    "print('Test Accuracy:', accuracy)"
   ]
  },
  {
   "cell_type": "code",
   "execution_count": null,
   "metadata": {},
   "outputs": [],
   "source": []
  },
  {
   "cell_type": "code",
   "execution_count": null,
   "metadata": {},
   "outputs": [],
   "source": []
  },
  {
   "cell_type": "code",
   "execution_count": null,
   "metadata": {},
   "outputs": [],
   "source": []
  },
  {
   "cell_type": "code",
   "execution_count": null,
   "metadata": {},
   "outputs": [],
   "source": []
  },
  {
   "cell_type": "code",
   "execution_count": null,
   "metadata": {},
   "outputs": [],
   "source": []
  },
  {
   "cell_type": "code",
   "execution_count": null,
   "metadata": {},
   "outputs": [],
   "source": []
  }
 ],
 "metadata": {
  "kernelspec": {
   "display_name": "Python 3",
   "language": "python",
   "name": "python3"
  },
  "language_info": {
   "codemirror_mode": {
    "name": "ipython",
    "version": 3
   },
   "file_extension": ".py",
   "mimetype": "text/x-python",
   "name": "python",
   "nbconvert_exporter": "python",
   "pygments_lexer": "ipython3",
   "version": "3.7.4"
  }
 },
 "nbformat": 4,
 "nbformat_minor": 2
}
