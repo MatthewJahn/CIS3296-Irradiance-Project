{
 "cells": [
  {
   "cell_type": "code",
   "execution_count": 1,
   "metadata": {},
   "outputs": [
    {
     "name": "stderr",
     "output_type": "stream",
     "text": [
      "Using Theano backend.\n"
     ]
    }
   ],
   "source": [
    "## Keras configuration\n",
    "\n",
    "# Set KERAS backend to Theano\n",
    "import os\n",
    "os.environ['KERAS_BACKEND']='theano'\n",
    "\n",
    "# Load Keras\n",
    "import keras\n",
    "\n",
    "# Load the libraries\n",
    "import numpy as np\n",
    "from keras.models import Sequential\n",
    "from keras.layers.core import Dense, Dropout, Activation\n",
    "from keras.layers.convolutional import Conv2D\n",
    "from keras.layers.pooling import MaxPooling2D\n",
    "from keras.utils import np_utils\n",
    "from keras.optimizers import SGD"
   ]
  },
  {
   "cell_type": "code",
   "execution_count": 2,
   "metadata": {},
   "outputs": [],
   "source": [
    "import pandas as pd\n",
    "from functools import reduce"
   ]
  },
  {
   "cell_type": "code",
   "execution_count": 3,
   "metadata": {},
   "outputs": [
    {
     "name": "stdout",
     "output_type": "stream",
     "text": [
      "Loaded file MDA300n150.dat\n",
      "Loaded file MDA300n151.dat\n",
      "Loaded file MDA300n152.dat\n"
     ]
    },
    {
     "name": "stderr",
     "output_type": "stream",
     "text": [
      "b'Skipping line 47729: expected 7 fields, saw 13\\n'\n"
     ]
    },
    {
     "name": "stdout",
     "output_type": "stream",
     "text": [
      "Loaded file MDA300n153.dat\n",
      "Loaded file MDA300n154.dat\n"
     ]
    }
   ],
   "source": [
    "# Load Data into array\n",
    "\n",
    "nodes = []\n",
    "for x in range(0, 5):\n",
    "    nodes.append(pd.read_csv('https://raw.githubusercontent.com/Amitangshu/Irradiance_sensing/master/All_Data_For_EPIC_Roof/MDA300n' + str(x+150) +'.dat',\n",
    "                     error_bad_lines=False, header=1))\n",
    "    print(\"Loaded file MDA300n\"+str(x+150)+\".dat\")"
   ]
  },
  {
   "cell_type": "code",
   "execution_count": 4,
   "metadata": {
    "scrolled": false
   },
   "outputs": [],
   "source": [
    "# Split TimeStamp into Date and Time columns and \n",
    "\n",
    "numNodes = len(nodes)\n",
    "for y in range(numNodes):\n",
    "    nodes[y][['DATE','TIME']] = nodes[y].TMSTAMP.str.split(expand=True)"
   ]
  },
  {
   "cell_type": "code",
   "execution_count": 5,
   "metadata": {},
   "outputs": [],
   "source": [
    "for w in range(numNodes):\n",
    "    nodes[w] = nodes[w].drop('TMSTAMP', 1)\n",
    "    nodes[w] = nodes[w].drop('RECNBR', 1)\n",
    "    nodes[w] = nodes[w].drop('PARENT', 1)\n",
    "    nodes[w] = nodes[w].drop('SOLAROCV', 1)\n",
    "    nodes[w] = nodes[w].drop('VBATT', 1)\n",
    "    nodes[w] = nodes[w].drop('TEMP', 1)\n",
    "    nodes[w] = nodes[w].drop('DATE', 1)"
   ]
  },
  {
   "cell_type": "code",
   "execution_count": 6,
   "metadata": {},
   "outputs": [
    {
     "name": "stdout",
     "output_type": "stream",
     "text": [
      "Index(['IRRADIANCE', 'TIME'], dtype='object')\n"
     ]
    }
   ],
   "source": [
    "print(nodes[0].columns)"
   ]
  },
  {
   "cell_type": "code",
   "execution_count": 7,
   "metadata": {},
   "outputs": [],
   "source": [
    "# Explore data to see the distribution of irradiance values\n",
    "\n",
    "count = []\n",
    "for z in range(numNodes):\n",
    "    count.append(nodes[z].IRRADIANCE.value_counts())"
   ]
  },
  {
   "cell_type": "code",
   "execution_count": 8,
   "metadata": {
    "scrolled": true
   },
   "outputs": [
    {
     "data": {
      "text/plain": [
       "Float64Index([   2.92,    5.83,    8.75,   11.67,   20.42,   14.58,    35.0,\n",
       "                 17.5,   55.41,   26.25,\n",
       "              ...\n",
       "              3094.41, 7151.27, 6602.96, 6675.88, 7256.26, 4742.24, 8026.22,\n",
       "              1388.26, 3505.64, 2397.37],\n",
       "             dtype='float64', length=2003)"
      ]
     },
     "execution_count": 8,
     "metadata": {},
     "output_type": "execute_result"
    }
   ],
   "source": [
    "count[0].index"
   ]
  },
  {
   "cell_type": "code",
   "execution_count": 9,
   "metadata": {},
   "outputs": [],
   "source": [
    "# Select the 10 class values\n",
    "class_values = [2.92, 8.75, 3.07, 2.81, 3.17, 8.44, 2.74, 2.98, 3.14, 3.52]"
   ]
  },
  {
   "cell_type": "code",
   "execution_count": 10,
   "metadata": {},
   "outputs": [],
   "source": [
    "# Subset data by the selected class values\n",
    "\n",
    "subset = []\n",
    "for a in range(numNodes):\n",
    "    subset.append(nodes[a][nodes[a].IRRADIANCE.isin(class_values)])"
   ]
  },
  {
   "cell_type": "code",
   "execution_count": 11,
   "metadata": {},
   "outputs": [
    {
     "name": "stdout",
     "output_type": "stream",
     "text": [
      "Index(['IRRADIANCE', 'TIME'], dtype='object')\n"
     ]
    }
   ],
   "source": [
    "print(nodes[0].columns)"
   ]
  },
  {
   "cell_type": "code",
   "execution_count": 12,
   "metadata": {},
   "outputs": [],
   "source": [
    "# Merge the subsets\n",
    "\n",
    "data = reduce(lambda  left,right: pd.merge(left,right,on=['IRRADIANCE','TIME'],how='outer'), nodes)"
   ]
  },
  {
   "cell_type": "code",
   "execution_count": 13,
   "metadata": {},
   "outputs": [
    {
     "name": "stdout",
     "output_type": "stream",
     "text": [
      "569638\n"
     ]
    }
   ],
   "source": [
    "data.head()\n",
    "print(data.size)"
   ]
  },
  {
   "cell_type": "code",
   "execution_count": 14,
   "metadata": {
    "scrolled": false
   },
   "outputs": [],
   "source": [
    "# Transform Time column into numeric (hours)\n",
    "data.TIME = pd.to_timedelta(data.TIME)\n",
    "data.TIME = data.TIME.dt.seconds/3600"
   ]
  },
  {
   "cell_type": "code",
   "execution_count": 15,
   "metadata": {},
   "outputs": [],
   "source": [
    "# Creating labels:\n",
    "\n",
    "# Convert the labels into categorical classification\n",
    "# Class values: {2.92, 8.75, 3.07, 2.81} correspond to {0, 1, 2, 3}\n",
    "data.loc[data.IRRADIANCE==2.92, 'IRRADIANCE'] = 0\n",
    "data.loc[data.IRRADIANCE==8.75, 'IRRADIANCE'] = 1\n",
    "data.loc[data.IRRADIANCE==3.07, 'IRRADIANCE'] = 2\n",
    "data.loc[data.IRRADIANCE==2.81, 'IRRADIANCE'] = 3\n",
    "data.loc[data.IRRADIANCE==3.17, 'IRRADIANCE'] = 4\n",
    "# data.loc[data.IRRADIANCE==8.44, 'IRRADIANCE'] = 5\n",
    "# data.loc[data.IRRADIANCE==2.74, 'IRRADIANCE'] = 6\n",
    "# data.loc[data.IRRADIANCE==2.98, 'IRRADIANCE'] = 7\n",
    "# data.loc[data.IRRADIANCE==3.14, 'IRRADIANCE'] = 8\n",
    "# data.loc[data.IRRADIANCE==3.52, 'IRRADIANCE'] = 9"
   ]
  },
  {
   "cell_type": "code",
   "execution_count": 16,
   "metadata": {},
   "outputs": [
    {
     "data": {
      "text/html": [
       "<div>\n",
       "<style scoped>\n",
       "    .dataframe tbody tr th:only-of-type {\n",
       "        vertical-align: middle;\n",
       "    }\n",
       "\n",
       "    .dataframe tbody tr th {\n",
       "        vertical-align: top;\n",
       "    }\n",
       "\n",
       "    .dataframe thead th {\n",
       "        text-align: right;\n",
       "    }\n",
       "</style>\n",
       "<table border=\"1\" class=\"dataframe\">\n",
       "  <thead>\n",
       "    <tr style=\"text-align: right;\">\n",
       "      <th></th>\n",
       "      <th>IRRADIANCE</th>\n",
       "      <th>TIME</th>\n",
       "    </tr>\n",
       "  </thead>\n",
       "  <tbody>\n",
       "    <tr>\n",
       "      <td>0</td>\n",
       "      <td>40.83</td>\n",
       "      <td>18.887500</td>\n",
       "    </tr>\n",
       "    <tr>\n",
       "      <td>1</td>\n",
       "      <td>40.83</td>\n",
       "      <td>18.920000</td>\n",
       "    </tr>\n",
       "    <tr>\n",
       "      <td>2</td>\n",
       "      <td>17.50</td>\n",
       "      <td>19.066944</td>\n",
       "    </tr>\n",
       "    <tr>\n",
       "      <td>3</td>\n",
       "      <td>17.50</td>\n",
       "      <td>19.083056</td>\n",
       "    </tr>\n",
       "    <tr>\n",
       "      <td>4</td>\n",
       "      <td>14.58</td>\n",
       "      <td>19.099167</td>\n",
       "    </tr>\n",
       "  </tbody>\n",
       "</table>\n",
       "</div>"
      ],
      "text/plain": [
       "   IRRADIANCE       TIME\n",
       "0       40.83  18.887500\n",
       "1       40.83  18.920000\n",
       "2       17.50  19.066944\n",
       "3       17.50  19.083056\n",
       "4       14.58  19.099167"
      ]
     },
     "execution_count": 16,
     "metadata": {},
     "output_type": "execute_result"
    }
   ],
   "source": [
    "data.head()"
   ]
  },
  {
   "cell_type": "code",
   "execution_count": 17,
   "metadata": {},
   "outputs": [],
   "source": [
    "# Split data into three parts: training(40%), testing(30%), validation(30%)\n",
    "# Use scikit-learn\n",
    "\n",
    "import sklearn\n",
    "from sklearn.model_selection import train_test_split\n",
    "\n",
    "Train_Set, Test_Set = train_test_split(data, train_size=0.4, test_size=0.3, shuffle=True)"
   ]
  },
  {
   "cell_type": "code",
   "execution_count": 18,
   "metadata": {},
   "outputs": [],
   "source": [
    "# Extract the feature columns: IRRADIANCE, TIME\n",
    "\n",
    "#X_train = np.array(Train_Set[['IRRADIANCE', 'TIME']]).astype('float64')\n",
    "#X_test = np.array(Test_Set[['IRRADIANCE','TIME']]).astype('float64')\n",
    "\n",
    "X_train = np.array(Train_Set[['IRRADIANCE','TIME']]).astype('float64')\n",
    "X_test = np.array(Test_Set[['IRRADIANCE','TIME']]).astype('float64')\n",
    "\n",
    "# Input Shape\n",
    "shape_ord = (X_train[0].shape)"
   ]
  },
  {
   "cell_type": "code",
   "execution_count": 19,
   "metadata": {},
   "outputs": [],
   "source": [
    "# Extract the label column: IRRADIANCE\n",
    "\n",
    "# Cast the label as integer\n",
    "Y_train = np.array(Train_Set[['IRRADIANCE']]).astype('float64')\n",
    "Y_test = np.array(Test_Set[['IRRADIANCE']]).astype('float64')\n",
    "\n",
    "from keras.utils import to_categorical\n",
    "# Convert the labels into categorical form\n",
    "Y_train = to_categorical(Y_train, num_classes=8750)\n",
    "Y_test = to_categorical(Y_test, num_classes=8750)"
   ]
  },
  {
   "cell_type": "code",
   "execution_count": 20,
   "metadata": {},
   "outputs": [
    {
     "data": {
      "text/plain": [
       "(2,)"
      ]
     },
     "execution_count": 20,
     "metadata": {},
     "output_type": "execute_result"
    }
   ],
   "source": [
    "shape_ord"
   ]
  },
  {
   "cell_type": "markdown",
   "metadata": {},
   "source": [
    "### Training the final model"
   ]
  },
  {
   "cell_type": "code",
   "execution_count": 21,
   "metadata": {},
   "outputs": [],
   "source": [
    "# Initialize the parameters\n",
    "# Number of epochs\n",
    "nb_epochs = 3\n",
    "# Batch size\n",
    "batch_size = 128\n",
    "# Vanilla SGD\n",
    "sgd = SGD(lr=0.1, decay=1e-6, momentum=0.9, nesterov=True)"
   ]
  },
  {
   "cell_type": "code",
   "execution_count": 22,
   "metadata": {},
   "outputs": [
    {
     "name": "stdout",
     "output_type": "stream",
     "text": [
      "_________________________________________________________________\n",
      "Layer (type)                 Output Shape              Param #   \n",
      "=================================================================\n",
      "dense_1 (Dense)              (None, 10)                30        \n",
      "_________________________________________________________________\n",
      "dropout_1 (Dropout)          (None, 10)                0         \n",
      "_________________________________________________________________\n",
      "dense_2 (Dense)              (None, 10)                110       \n",
      "_________________________________________________________________\n",
      "dropout_2 (Dropout)          (None, 10)                0         \n",
      "_________________________________________________________________\n",
      "dense_3 (Dense)              (None, 8750)              96250     \n",
      "=================================================================\n",
      "Total params: 96,390\n",
      "Trainable params: 96,390\n",
      "Non-trainable params: 0\n",
      "_________________________________________________________________\n"
     ]
    }
   ],
   "source": [
    "model = Sequential()\n",
    "\n",
    "model.add(Dense(10, activation='relu', input_dim=2))\n",
    "model.add(Dropout(0.4))\n",
    "model.add(Dense(10, activation='relu'))\n",
    "model.add(Dropout(0.4))\n",
    "model.add(Dense(8750, activation='softmax'))\n",
    "\n",
    "model.compile(loss='categorical_crossentropy',\n",
    "              optimizer=sgd,\n",
    "              metrics=['accuracy'])\n",
    "\n",
    "model.summary()"
   ]
  },
  {
   "cell_type": "code",
   "execution_count": 23,
   "metadata": {},
   "outputs": [
    {
     "name": "stdout",
     "output_type": "stream",
     "text": [
      "Train on 113927 samples, validate on 85446 samples\n",
      "Epoch 1/3\n",
      "113927/113927 [==============================] - 134s 1ms/step - loss: 4.8556 - acc: 0.2251 - val_loss: 4.2122 - val_acc: 0.1992\n",
      "Epoch 2/3\n",
      "113927/113927 [==============================] - 127s 1ms/step - loss: 4.4513 - acc: 0.2484 - val_loss: 4.0938 - val_acc: 0.3272\n",
      "Epoch 3/3\n",
      "113927/113927 [==============================] - 132s 1ms/step - loss: 4.4029 - acc: 0.2513 - val_loss: 4.1427 - val_acc: 0.3272\n"
     ]
    }
   ],
   "source": [
    "hist = model.fit(X_train, Y_train, batch_size=batch_size,validation_split=0.33, \n",
    "                 epochs=nb_epochs, verbose=1, \n",
    "                 validation_data=(X_test, Y_test))"
   ]
  },
  {
   "cell_type": "code",
   "execution_count": 24,
   "metadata": {},
   "outputs": [
    {
     "data": {
      "image/png": "[encoded data removed]",
      "text/plain": [
       "<Figure size 432x288 with 1 Axes>"
      ]
     },
     "metadata": {
      "needs_background": "light"
     },
     "output_type": "display_data"
    }
   ],
   "source": [
    "import matplotlib.pyplot as plt\n",
    "%matplotlib inline\n",
    "\n",
    "plt.xlabel('Epochs')\n",
    "plt.ylabel('Loss')\n",
    "plt.title('Model Loss')\n",
    "plt.plot(hist.history['loss'])\n",
    "plt.plot(hist.history['val_loss'])\n",
    "plt.legend(['Training', 'Validation'], loc='upper right')\n",
    "plt.show()\n",
    "\n",
    "# plt.xlabel('Epochs')\n",
    "# plt.ylabel('Accuracy')\n",
    "# plt.title('Model Accuracy')\n",
    "# plt.plot(hist.history['accuracy'])\n",
    "# plt.plot(hist.history['val_accuracy'])\n",
    "# plt.legend(['Training', 'Validation'], loc='upper right')\n",
    "# plt.show()"
   ]
  },
  {
   "cell_type": "code",
   "execution_count": 25,
   "metadata": {},
   "outputs": [
    {
     "name": "stdout",
     "output_type": "stream",
     "text": [
      "Test Loss: 4.142684874009922\n",
      "Test Accuracy: 0.3272242117832292\n"
     ]
    }
   ],
   "source": [
    "# Evaluating the model on the test data    \n",
    "loss, accuracy = model.evaluate(X_test, Y_test, verbose=0)\n",
    "print('Test Loss:', loss)\n",
    "print('Test Accuracy:', accuracy)"
   ]
  },
  {
   "cell_type": "markdown",
   "metadata": {},
   "source": [
    "Prediction"
   ]
  },
  {
   "cell_type": "code",
   "execution_count": 26,
   "metadata": {},
   "outputs": [
    {
     "name": "stdout",
     "output_type": "stream",
     "text": [
      "Loaded file MDA300n155.dat\n"
     ]
    }
   ],
   "source": [
    "input = []\n",
    "input.append(pd.read_csv('https://raw.githubusercontent.com/Amitangshu/Irradiance_sensing/master/All_Data_For_EPIC_Roof/MDA300n155.dat',\n",
    "                     error_bad_lines=False, header=1))\n",
    "print(\"Loaded file MDA300n155.dat\")"
   ]
  },
  {
   "cell_type": "code",
   "execution_count": 27,
   "metadata": {},
   "outputs": [
    {
     "name": "stdout",
     "output_type": "stream",
     "text": [
      "Loaded file GHIsolcast.csv\n",
      "Index(['PeriodEnd', 'PeriodStart', 'Period', 'Ghi'], dtype='object')\n",
      "Index(['Ghi', 'DATE', 'TIME'], dtype='object')\n"
     ]
    },
    {
     "data": {
      "text/html": [
       "<div>\n",
       "<style scoped>\n",
       "    .dataframe tbody tr th:only-of-type {\n",
       "        vertical-align: middle;\n",
       "    }\n",
       "\n",
       "    .dataframe tbody tr th {\n",
       "        vertical-align: top;\n",
       "    }\n",
       "\n",
       "    .dataframe thead th {\n",
       "        text-align: right;\n",
       "    }\n",
       "</style>\n",
       "<table border=\"1\" class=\"dataframe\">\n",
       "  <thead>\n",
       "    <tr style=\"text-align: right;\">\n",
       "      <th></th>\n",
       "      <th>Ghi</th>\n",
       "      <th>DATE</th>\n",
       "      <th>TIME</th>\n",
       "    </tr>\n",
       "  </thead>\n",
       "  <tbody>\n",
       "    <tr>\n",
       "      <td>0</td>\n",
       "      <td>664</td>\n",
       "      <td>2012-09-14</td>\n",
       "      <td>19:00:00</td>\n",
       "    </tr>\n",
       "    <tr>\n",
       "      <td>1</td>\n",
       "      <td>499</td>\n",
       "      <td>2012-09-14</td>\n",
       "      <td>20:00:00</td>\n",
       "    </tr>\n",
       "    <tr>\n",
       "      <td>2</td>\n",
       "      <td>312</td>\n",
       "      <td>2012-09-14</td>\n",
       "      <td>21:00:00</td>\n",
       "    </tr>\n",
       "    <tr>\n",
       "      <td>3</td>\n",
       "      <td>125</td>\n",
       "      <td>2012-09-14</td>\n",
       "      <td>22:00:00</td>\n",
       "    </tr>\n",
       "    <tr>\n",
       "      <td>4</td>\n",
       "      <td>16</td>\n",
       "      <td>2012-09-14</td>\n",
       "      <td>23:00:00</td>\n",
       "    </tr>\n",
       "    <tr>\n",
       "      <td>5</td>\n",
       "      <td>0</td>\n",
       "      <td>2012-09-15</td>\n",
       "      <td>00:00:00</td>\n",
       "    </tr>\n",
       "    <tr>\n",
       "      <td>6</td>\n",
       "      <td>0</td>\n",
       "      <td>2012-09-15</td>\n",
       "      <td>01:00:00</td>\n",
       "    </tr>\n",
       "    <tr>\n",
       "      <td>7</td>\n",
       "      <td>0</td>\n",
       "      <td>2012-09-15</td>\n",
       "      <td>02:00:00</td>\n",
       "    </tr>\n",
       "    <tr>\n",
       "      <td>8</td>\n",
       "      <td>0</td>\n",
       "      <td>2012-09-15</td>\n",
       "      <td>03:00:00</td>\n",
       "    </tr>\n",
       "    <tr>\n",
       "      <td>9</td>\n",
       "      <td>0</td>\n",
       "      <td>2012-09-15</td>\n",
       "      <td>04:00:00</td>\n",
       "    </tr>\n",
       "    <tr>\n",
       "      <td>10</td>\n",
       "      <td>0</td>\n",
       "      <td>2012-09-15</td>\n",
       "      <td>05:00:00</td>\n",
       "    </tr>\n",
       "    <tr>\n",
       "      <td>11</td>\n",
       "      <td>0</td>\n",
       "      <td>2012-09-15</td>\n",
       "      <td>06:00:00</td>\n",
       "    </tr>\n",
       "    <tr>\n",
       "      <td>12</td>\n",
       "      <td>0</td>\n",
       "      <td>2012-09-15</td>\n",
       "      <td>07:00:00</td>\n",
       "    </tr>\n",
       "    <tr>\n",
       "      <td>13</td>\n",
       "      <td>0</td>\n",
       "      <td>2012-09-15</td>\n",
       "      <td>08:00:00</td>\n",
       "    </tr>\n",
       "    <tr>\n",
       "      <td>14</td>\n",
       "      <td>0</td>\n",
       "      <td>2012-09-15</td>\n",
       "      <td>09:00:00</td>\n",
       "    </tr>\n",
       "    <tr>\n",
       "      <td>15</td>\n",
       "      <td>1</td>\n",
       "      <td>2012-09-15</td>\n",
       "      <td>10:00:00</td>\n",
       "    </tr>\n",
       "    <tr>\n",
       "      <td>16</td>\n",
       "      <td>55</td>\n",
       "      <td>2012-09-15</td>\n",
       "      <td>11:00:00</td>\n",
       "    </tr>\n",
       "    <tr>\n",
       "      <td>17</td>\n",
       "      <td>233</td>\n",
       "      <td>2012-09-15</td>\n",
       "      <td>12:00:00</td>\n",
       "    </tr>\n",
       "    <tr>\n",
       "      <td>18</td>\n",
       "      <td>436</td>\n",
       "      <td>2012-09-15</td>\n",
       "      <td>13:00:00</td>\n",
       "    </tr>\n",
       "    <tr>\n",
       "      <td>19</td>\n",
       "      <td>620</td>\n",
       "      <td>2012-09-15</td>\n",
       "      <td>14:00:00</td>\n",
       "    </tr>\n",
       "    <tr>\n",
       "      <td>20</td>\n",
       "      <td>756</td>\n",
       "      <td>2012-09-15</td>\n",
       "      <td>15:00:00</td>\n",
       "    </tr>\n",
       "    <tr>\n",
       "      <td>21</td>\n",
       "      <td>833</td>\n",
       "      <td>2012-09-15</td>\n",
       "      <td>16:00:00</td>\n",
       "    </tr>\n",
       "    <tr>\n",
       "      <td>22</td>\n",
       "      <td>832</td>\n",
       "      <td>2012-09-15</td>\n",
       "      <td>17:00:00</td>\n",
       "    </tr>\n",
       "    <tr>\n",
       "      <td>23</td>\n",
       "      <td>723</td>\n",
       "      <td>2012-09-15</td>\n",
       "      <td>18:00:00</td>\n",
       "    </tr>\n",
       "  </tbody>\n",
       "</table>\n",
       "</div>"
      ],
      "text/plain": [
       "    Ghi        DATE      TIME\n",
       "0   664  2012-09-14  19:00:00\n",
       "1   499  2012-09-14  20:00:00\n",
       "2   312  2012-09-14  21:00:00\n",
       "3   125  2012-09-14  22:00:00\n",
       "4    16  2012-09-14  23:00:00\n",
       "5     0  2012-09-15  00:00:00\n",
       "6     0  2012-09-15  01:00:00\n",
       "7     0  2012-09-15  02:00:00\n",
       "8     0  2012-09-15  03:00:00\n",
       "9     0  2012-09-15  04:00:00\n",
       "10    0  2012-09-15  05:00:00\n",
       "11    0  2012-09-15  06:00:00\n",
       "12    0  2012-09-15  07:00:00\n",
       "13    0  2012-09-15  08:00:00\n",
       "14    0  2012-09-15  09:00:00\n",
       "15    1  2012-09-15  10:00:00\n",
       "16   55  2012-09-15  11:00:00\n",
       "17  233  2012-09-15  12:00:00\n",
       "18  436  2012-09-15  13:00:00\n",
       "19  620  2012-09-15  14:00:00\n",
       "20  756  2012-09-15  15:00:00\n",
       "21  833  2012-09-15  16:00:00\n",
       "22  832  2012-09-15  17:00:00\n",
       "23  723  2012-09-15  18:00:00"
      ]
     },
     "execution_count": 27,
     "metadata": {},
     "output_type": "execute_result"
    }
   ],
   "source": [
    "ghi = pd.read_csv('https://raw.githubusercontent.com/MatthewJahn/CIS3296-Irradiance-Project/master/GHIsolcast.csv',\n",
    "                     error_bad_lines=False, header=0)\n",
    "print(\"Loaded file GHIsolcast.csv\")\n",
    "\n",
    "print(ghi.columns)\n",
    "ghi[['DATE','TIME']] = ghi.PeriodStart.str.split('T', expand=True)\n",
    "ghi.TIME = ghi.TIME.str[0:8]\n",
    "ghi = ghi.drop('Period', 1)\n",
    "ghi = ghi.drop('PeriodStart', 1)\n",
    "ghi = ghi.drop('PeriodEnd', 1)\n",
    "ghi = ghi.drop(ghi.index[24:])\n",
    "\n",
    "print(ghi.columns)\n",
    "ghi.head(24)"
   ]
  },
  {
   "cell_type": "code",
   "execution_count": 28,
   "metadata": {},
   "outputs": [],
   "source": [
    "numRec = len(input)\n",
    "for y in range(numRec):\n",
    "    input[y][['DATE','TIME']] = input[y].TMSTAMP.str.split(' ', expand=True)\n",
    "    input[y].TIME = input[y].TIME.str[0:3] + '00:00'\n",
    "    input[y].drop_duplicates(subset='TIME',keep='first',inplace=True) #this needs to applied only every date instead of over the whole thing if we want a longer graph\n",
    "    "
   ]
  },
  {
   "cell_type": "code",
   "execution_count": 29,
   "metadata": {},
   "outputs": [
    {
     "data": {
      "text/html": [
       "<div>\n",
       "<style scoped>\n",
       "    .dataframe tbody tr th:only-of-type {\n",
       "        vertical-align: middle;\n",
       "    }\n",
       "\n",
       "    .dataframe tbody tr th {\n",
       "        vertical-align: top;\n",
       "    }\n",
       "\n",
       "    .dataframe thead th {\n",
       "        text-align: right;\n",
       "    }\n",
       "</style>\n",
       "<table border=\"1\" class=\"dataframe\">\n",
       "  <thead>\n",
       "    <tr style=\"text-align: right;\">\n",
       "      <th></th>\n",
       "      <th>IRRADIANCE</th>\n",
       "      <th>TIME</th>\n",
       "    </tr>\n",
       "  </thead>\n",
       "  <tbody>\n",
       "    <tr>\n",
       "      <td>0</td>\n",
       "      <td>8.44</td>\n",
       "      <td>19:00:00</td>\n",
       "    </tr>\n",
       "    <tr>\n",
       "      <td>27</td>\n",
       "      <td>2.81</td>\n",
       "      <td>20:00:00</td>\n",
       "    </tr>\n",
       "    <tr>\n",
       "      <td>85</td>\n",
       "      <td>2.81</td>\n",
       "      <td>21:00:00</td>\n",
       "    </tr>\n",
       "    <tr>\n",
       "      <td>140</td>\n",
       "      <td>2.81</td>\n",
       "      <td>22:00:00</td>\n",
       "    </tr>\n",
       "    <tr>\n",
       "      <td>202</td>\n",
       "      <td>2.81</td>\n",
       "      <td>23:00:00</td>\n",
       "    </tr>\n",
       "    <tr>\n",
       "      <td>254</td>\n",
       "      <td>2.81</td>\n",
       "      <td>00:00:00</td>\n",
       "    </tr>\n",
       "    <tr>\n",
       "      <td>312</td>\n",
       "      <td>2.81</td>\n",
       "      <td>01:00:00</td>\n",
       "    </tr>\n",
       "    <tr>\n",
       "      <td>370</td>\n",
       "      <td>2.81</td>\n",
       "      <td>02:00:00</td>\n",
       "    </tr>\n",
       "    <tr>\n",
       "      <td>429</td>\n",
       "      <td>2.81</td>\n",
       "      <td>03:00:00</td>\n",
       "    </tr>\n",
       "    <tr>\n",
       "      <td>487</td>\n",
       "      <td>2.81</td>\n",
       "      <td>04:00:00</td>\n",
       "    </tr>\n",
       "    <tr>\n",
       "      <td>543</td>\n",
       "      <td>2.81</td>\n",
       "      <td>05:00:00</td>\n",
       "    </tr>\n",
       "    <tr>\n",
       "      <td>600</td>\n",
       "      <td>2.81</td>\n",
       "      <td>06:00:00</td>\n",
       "    </tr>\n",
       "    <tr>\n",
       "      <td>658</td>\n",
       "      <td>5.63</td>\n",
       "      <td>07:00:00</td>\n",
       "    </tr>\n",
       "    <tr>\n",
       "      <td>710</td>\n",
       "      <td>53.46</td>\n",
       "      <td>08:00:00</td>\n",
       "    </tr>\n",
       "    <tr>\n",
       "      <td>751</td>\n",
       "      <td>106.91</td>\n",
       "      <td>09:00:00</td>\n",
       "    </tr>\n",
       "    <tr>\n",
       "      <td>789</td>\n",
       "      <td>177.25</td>\n",
       "      <td>10:00:00</td>\n",
       "    </tr>\n",
       "    <tr>\n",
       "      <td>835</td>\n",
       "      <td>261.66</td>\n",
       "      <td>11:00:00</td>\n",
       "    </tr>\n",
       "    <tr>\n",
       "      <td>881</td>\n",
       "      <td>329.18</td>\n",
       "      <td>12:00:00</td>\n",
       "    </tr>\n",
       "    <tr>\n",
       "      <td>917</td>\n",
       "      <td>562.71</td>\n",
       "      <td>13:00:00</td>\n",
       "    </tr>\n",
       "    <tr>\n",
       "      <td>944</td>\n",
       "      <td>872.20</td>\n",
       "      <td>14:00:00</td>\n",
       "    </tr>\n",
       "    <tr>\n",
       "      <td>971</td>\n",
       "      <td>185.69</td>\n",
       "      <td>15:00:00</td>\n",
       "    </tr>\n",
       "    <tr>\n",
       "      <td>1020</td>\n",
       "      <td>225.08</td>\n",
       "      <td>16:00:00</td>\n",
       "    </tr>\n",
       "    <tr>\n",
       "      <td>1045</td>\n",
       "      <td>880.64</td>\n",
       "      <td>17:00:00</td>\n",
       "    </tr>\n",
       "    <tr>\n",
       "      <td>1096</td>\n",
       "      <td>725.89</td>\n",
       "      <td>18:00:00</td>\n",
       "    </tr>\n",
       "  </tbody>\n",
       "</table>\n",
       "</div>"
      ],
      "text/plain": [
       "      IRRADIANCE      TIME\n",
       "0           8.44  19:00:00\n",
       "27          2.81  20:00:00\n",
       "85          2.81  21:00:00\n",
       "140         2.81  22:00:00\n",
       "202         2.81  23:00:00\n",
       "254         2.81  00:00:00\n",
       "312         2.81  01:00:00\n",
       "370         2.81  02:00:00\n",
       "429         2.81  03:00:00\n",
       "487         2.81  04:00:00\n",
       "543         2.81  05:00:00\n",
       "600         2.81  06:00:00\n",
       "658         5.63  07:00:00\n",
       "710        53.46  08:00:00\n",
       "751       106.91  09:00:00\n",
       "789       177.25  10:00:00\n",
       "835       261.66  11:00:00\n",
       "881       329.18  12:00:00\n",
       "917       562.71  13:00:00\n",
       "944       872.20  14:00:00\n",
       "971       185.69  15:00:00\n",
       "1020      225.08  16:00:00\n",
       "1045      880.64  17:00:00\n",
       "1096      725.89  18:00:00"
      ]
     },
     "execution_count": 29,
     "metadata": {},
     "output_type": "execute_result"
    }
   ],
   "source": [
    "for w in range(numRec):\n",
    "    input[w] = input[w].drop('TMSTAMP', 1)\n",
    "    input[w] = input[w].drop('RECNBR', 1)\n",
    "    input[w] = input[w].drop('PARENT', 1)\n",
    "    input[w] = input[w].drop('SOLAROCV', 1)\n",
    "    input[w] = input[w].drop('VBATT', 1)\n",
    "    input[w] = input[w].drop('TEMP', 1)\n",
    "    input[w] = input[w].drop('DATE', 1)\n",
    "\n",
    "input[w].head(24)"
   ]
  },
  {
   "cell_type": "code",
   "execution_count": 30,
   "metadata": {},
   "outputs": [],
   "source": [
    "input = pd.DataFrame(input[0])"
   ]
  },
  {
   "cell_type": "code",
   "execution_count": 31,
   "metadata": {},
   "outputs": [],
   "source": [
    "input.TIME = pd.to_timedelta(input.TIME)\n",
    "input.TIME = input.TIME.dt.seconds/3600"
   ]
  },
  {
   "cell_type": "code",
   "execution_count": 32,
   "metadata": {},
   "outputs": [
    {
     "data": {
      "text/plain": [
       "array([4], dtype=int64)"
      ]
     },
     "execution_count": 32,
     "metadata": {},
     "output_type": "execute_result"
    }
   ],
   "source": [
    "output = model.predict_classes(input)\n",
    "np.unique(output)"
   ]
  },
  {
   "cell_type": "code",
   "execution_count": 33,
   "metadata": {},
   "outputs": [
    {
     "data": {
      "text/plain": [
       "[<matplotlib.lines.Line2D at 0x1a60d94a588>,\n",
       " <matplotlib.lines.Line2D at 0x1a612253d48>]"
      ]
     },
     "execution_count": 33,
     "metadata": {},
     "output_type": "execute_result"
    },
    {
     "data": {
      "image/png": "[encoded data removed]",
      "text/plain": [
       "<Figure size 432x288 with 1 Axes>"
      ]
     },
     "metadata": {
      "needs_background": "light"
     },
     "output_type": "display_data"
    }
   ],
   "source": [
    "plt.plot(ghi.TIME, ghi.Ghi, output)"
   ]
  },
  {
   "cell_type": "code",
   "execution_count": 34,
   "metadata": {},
   "outputs": [],
   "source": [
    "#node5real = [8.44, 2.81, 2.81 , 2.81, 2.81, 2.81, 2.81, 2.81, 2.81, 2.81, 2.81, 2.81, 5.63, 53.46, 106.91, 177.25, 261.66, 329.18, 562.71, 872.20, 185.69, 225.08, 880.64, 725.89]"
   ]
  }
 ],
 "metadata": {
  "kernelspec": {
   "display_name": "Python 3",
   "language": "python",
   "name": "python3"
  },
  "language_info": {
   "codemirror_mode": {
    "name": "ipython",
    "version": 3
   },
   "file_extension": ".py",
   "mimetype": "text/x-python",
   "name": "python",
   "nbconvert_exporter": "python",
   "pygments_lexer": "ipython3",
   "version": "3.7.4"
  }
 },
 "nbformat": 4,
 "nbformat_minor": 2
}
